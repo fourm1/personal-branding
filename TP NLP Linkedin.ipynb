{
 "cells": [
  {
   "metadata": {},
   "cell_type": "markdown",
   "source": "01. C'EST QUOI LE NLP ? ---> Excalidraw , huggingFace, Use Case .",
   "id": "c18ee4e8f0e1c7d0"
  },
  {
   "metadata": {},
   "cell_type": "markdown",
   "source": "quelque chose !!",
   "id": "5ef067819d4699b3"
  },
  {
   "metadata": {
    "ExecuteTime": {
     "end_time": "2024-05-22T08:21:14.753179Z",
     "start_time": "2024-05-22T08:21:14.747859Z"
    }
   },
   "cell_type": "code",
   "source": [
    "a = 5\n",
    "b = 2\n",
    "a + b"
   ],
   "id": "77d48b840de9906",
   "outputs": [
    {
     "data": {
      "text/plain": [
       "7"
      ]
     },
     "execution_count": 1,
     "metadata": {},
     "output_type": "execute_result"
    }
   ],
   "execution_count": 1
  },
  {
   "metadata": {
    "ExecuteTime": {
     "end_time": "2024-05-22T08:21:43.172755Z",
     "start_time": "2024-05-22T08:21:43.169557Z"
    }
   },
   "cell_type": "code",
   "source": "print(a+b)",
   "id": "4e153af2ac16ec60",
   "outputs": [
    {
     "name": "stdout",
     "output_type": "stream",
     "text": [
      "7\n"
     ]
    }
   ],
   "execution_count": 2
  },
  {
   "metadata": {
    "ExecuteTime": {
     "end_time": "2024-05-22T08:21:54.026724Z",
     "start_time": "2024-05-22T08:21:54.023757Z"
    }
   },
   "cell_type": "code",
   "source": "print(\"salut\")",
   "id": "c9e3c1002d3d7aa9",
   "outputs": [
    {
     "name": "stdout",
     "output_type": "stream",
     "text": [
      "salut\n"
     ]
    }
   ],
   "execution_count": 4
  },
  {
   "metadata": {
    "ExecuteTime": {
     "end_time": "2024-05-22T08:21:58.984790Z",
     "start_time": "2024-05-22T08:21:58.980715Z"
    }
   },
   "cell_type": "code",
   "source": "\"salut\"",
   "id": "b392b3193fc0c93c",
   "outputs": [
    {
     "data": {
      "text/plain": [
       "'salut'"
      ]
     },
     "execution_count": 5,
     "metadata": {},
     "output_type": "execute_result"
    }
   ],
   "execution_count": 5
  },
  {
   "cell_type": "markdown",
   "id": "71fa7fd8",
   "metadata": {},
   "source": [
    "#### 1. Importation des bibliothèques "
   ]
  },
  {
   "metadata": {},
   "cell_type": "markdown",
   "source": "",
   "id": "1ebb59a6e8a5d028"
  },
  {
   "metadata": {},
   "cell_type": "code",
   "outputs": [],
   "execution_count": null,
   "source": [
    "#!pip install pandas\n",
    "\n",
    "#!pip install scikit-learn"
   ],
   "id": "be83a8cdc2eb0f4f"
  },
  {
   "cell_type": "code",
   "id": "25138a8d",
   "metadata": {
    "ExecuteTime": {
     "end_time": "2024-05-22T09:20:19.763516Z",
     "start_time": "2024-05-22T09:20:19.760818Z"
    }
   },
   "source": [
    "# First import the essential modules\n",
    "import pandas as pd\n",
    "from sklearn.feature_extraction.text import TfidfVectorizer # traitement de texte\n",
    "from sklearn.decomposition import NMF # Modélisation des sujets\n",
    "import numpy as np"
   ],
   "outputs": [],
   "execution_count": 20
  },
  {
   "cell_type": "markdown",
   "id": "39292ce8",
   "metadata": {},
   "source": [
    "#### 2. Chargement des données "
   ]
  },
  {
   "cell_type": "code",
   "id": "24047c3d",
   "metadata": {
    "ExecuteTime": {
     "end_time": "2024-05-22T08:31:30.808861Z",
     "start_time": "2024-05-22T08:31:30.798777Z"
    }
   },
   "source": [
    "# Read data from the csv file\n",
    "df = pd.read_csv('posts.csv')"
   ],
   "outputs": [],
   "execution_count": 10
  },
  {
   "metadata": {},
   "cell_type": "markdown",
   "source": "",
   "id": "642f176134047245"
  },
  {
   "metadata": {
    "ExecuteTime": {
     "end_time": "2024-05-22T08:35:27.073332Z",
     "start_time": "2024-05-22T08:35:27.062929Z"
    }
   },
   "cell_type": "code",
   "source": "df",
   "id": "638d76ef2fbf6df3",
   "outputs": [
    {
     "data": {
      "text/plain": [
       "                                           profileUrl  \\\n",
       "0    https://www.linkedin.com/in/emmanuel-acheampong/   \n",
       "1    https://www.linkedin.com/in/emmanuel-acheampong/   \n",
       "2    https://www.linkedin.com/in/emmanuel-acheampong/   \n",
       "3    https://www.linkedin.com/in/emmanuel-acheampong/   \n",
       "4    https://www.linkedin.com/in/emmanuel-acheampong/   \n",
       "..                                                ...   \n",
       "247  https://www.linkedin.com/in/emmanuel-acheampong/   \n",
       "248  https://www.linkedin.com/in/emmanuel-acheampong/   \n",
       "249  https://www.linkedin.com/in/emmanuel-acheampong/   \n",
       "250  https://www.linkedin.com/in/emmanuel-acheampong/   \n",
       "251  https://www.linkedin.com/in/emmanuel-acheampong/   \n",
       "\n",
       "                                                action  \\\n",
       "0    Emmanuel Acheampong posted in Student Learning...   \n",
       "1                                                 Post   \n",
       "2                                                 Post   \n",
       "3                                                 Post   \n",
       "4                                                 Post   \n",
       "..                                                 ...   \n",
       "247                                               Post   \n",
       "248                                               Post   \n",
       "249                                               Post   \n",
       "250                                               Post   \n",
       "251                                               Post   \n",
       "\n",
       "                                           postContent  likeCount  \\\n",
       "0    Hello everyone,\\n\\nAfter researching and havin...          0   \n",
       "1    Day 73/365\\nhashtag#365daysoflearning\\n\\nFor d...          8   \n",
       "2    Day 72/365\\nhashtag#365daysoflearning\\n\\nI hav...          1   \n",
       "3    Day 71/365\\nhashtag#365daysoflearning\\n\\nAs a ...          7   \n",
       "4    We're living in a generation where we cannot t...          5   \n",
       "..                                                 ...        ...   \n",
       "247                           hashtag#alwaysbelearning          4   \n",
       "248  I have been dabbling with virtual machines usi...         41   \n",
       "249  These inspiring stories on my LinkedIn feed ju...         11   \n",
       "250  “Never mind what others do; do better than you...         10   \n",
       "251                                                NaN          2   \n",
       "\n",
       "     commentCount postDate                 timestamp  \\\n",
       "0               0      15h  2019-03-09T15:57:51.879Z   \n",
       "1               2      15h  2019-03-09T15:57:51.879Z   \n",
       "2               1       1d  2019-03-09T15:57:51.879Z   \n",
       "3               0       2d  2019-03-09T15:57:51.879Z   \n",
       "4               1       2d  2019-03-09T15:57:51.880Z   \n",
       "..            ...      ...                       ...   \n",
       "247             0     10mo  2019-03-09T15:57:51.903Z   \n",
       "248             6     10mo  2019-03-09T15:57:51.903Z   \n",
       "249             0     10mo  2019-03-09T15:57:51.904Z   \n",
       "250             1     10mo  2019-03-09T15:57:51.904Z   \n",
       "251             0     10mo  2019-03-09T15:57:51.904Z   \n",
       "\n",
       "                                               postUrl  \n",
       "0                                                  NaN  \n",
       "1    https://www.linkedin.com/feed/update/urn:li:ac...  \n",
       "2    https://www.linkedin.com/feed/update/urn:li:ac...  \n",
       "3    https://www.linkedin.com/feed/update/urn:li:ac...  \n",
       "4    https://www.linkedin.com/feed/update/urn:li:ac...  \n",
       "..                                                 ...  \n",
       "247  https://www.linkedin.com/feed/update/urn:li:ac...  \n",
       "248  https://www.linkedin.com/feed/update/urn:li:ac...  \n",
       "249  https://www.linkedin.com/feed/update/urn:li:ac...  \n",
       "250  https://www.linkedin.com/feed/update/urn:li:ac...  \n",
       "251  https://www.linkedin.com/feed/update/urn:li:ac...  \n",
       "\n",
       "[252 rows x 8 columns]"
      ],
      "text/html": [
       "<div>\n",
       "<style scoped>\n",
       "    .dataframe tbody tr th:only-of-type {\n",
       "        vertical-align: middle;\n",
       "    }\n",
       "\n",
       "    .dataframe tbody tr th {\n",
       "        vertical-align: top;\n",
       "    }\n",
       "\n",
       "    .dataframe thead th {\n",
       "        text-align: right;\n",
       "    }\n",
       "</style>\n",
       "<table border=\"1\" class=\"dataframe\">\n",
       "  <thead>\n",
       "    <tr style=\"text-align: right;\">\n",
       "      <th></th>\n",
       "      <th>profileUrl</th>\n",
       "      <th>action</th>\n",
       "      <th>postContent</th>\n",
       "      <th>likeCount</th>\n",
       "      <th>commentCount</th>\n",
       "      <th>postDate</th>\n",
       "      <th>timestamp</th>\n",
       "      <th>postUrl</th>\n",
       "    </tr>\n",
       "  </thead>\n",
       "  <tbody>\n",
       "    <tr>\n",
       "      <th>0</th>\n",
       "      <td>https://www.linkedin.com/in/emmanuel-acheampong/</td>\n",
       "      <td>Emmanuel Acheampong posted in Student Learning...</td>\n",
       "      <td>Hello everyone,\\n\\nAfter researching and havin...</td>\n",
       "      <td>0</td>\n",
       "      <td>0</td>\n",
       "      <td>15h</td>\n",
       "      <td>2019-03-09T15:57:51.879Z</td>\n",
       "      <td>NaN</td>\n",
       "    </tr>\n",
       "    <tr>\n",
       "      <th>1</th>\n",
       "      <td>https://www.linkedin.com/in/emmanuel-acheampong/</td>\n",
       "      <td>Post</td>\n",
       "      <td>Day 73/365\\nhashtag#365daysoflearning\\n\\nFor d...</td>\n",
       "      <td>8</td>\n",
       "      <td>2</td>\n",
       "      <td>15h</td>\n",
       "      <td>2019-03-09T15:57:51.879Z</td>\n",
       "      <td>https://www.linkedin.com/feed/update/urn:li:ac...</td>\n",
       "    </tr>\n",
       "    <tr>\n",
       "      <th>2</th>\n",
       "      <td>https://www.linkedin.com/in/emmanuel-acheampong/</td>\n",
       "      <td>Post</td>\n",
       "      <td>Day 72/365\\nhashtag#365daysoflearning\\n\\nI hav...</td>\n",
       "      <td>1</td>\n",
       "      <td>1</td>\n",
       "      <td>1d</td>\n",
       "      <td>2019-03-09T15:57:51.879Z</td>\n",
       "      <td>https://www.linkedin.com/feed/update/urn:li:ac...</td>\n",
       "    </tr>\n",
       "    <tr>\n",
       "      <th>3</th>\n",
       "      <td>https://www.linkedin.com/in/emmanuel-acheampong/</td>\n",
       "      <td>Post</td>\n",
       "      <td>Day 71/365\\nhashtag#365daysoflearning\\n\\nAs a ...</td>\n",
       "      <td>7</td>\n",
       "      <td>0</td>\n",
       "      <td>2d</td>\n",
       "      <td>2019-03-09T15:57:51.879Z</td>\n",
       "      <td>https://www.linkedin.com/feed/update/urn:li:ac...</td>\n",
       "    </tr>\n",
       "    <tr>\n",
       "      <th>4</th>\n",
       "      <td>https://www.linkedin.com/in/emmanuel-acheampong/</td>\n",
       "      <td>Post</td>\n",
       "      <td>We're living in a generation where we cannot t...</td>\n",
       "      <td>5</td>\n",
       "      <td>1</td>\n",
       "      <td>2d</td>\n",
       "      <td>2019-03-09T15:57:51.880Z</td>\n",
       "      <td>https://www.linkedin.com/feed/update/urn:li:ac...</td>\n",
       "    </tr>\n",
       "    <tr>\n",
       "      <th>...</th>\n",
       "      <td>...</td>\n",
       "      <td>...</td>\n",
       "      <td>...</td>\n",
       "      <td>...</td>\n",
       "      <td>...</td>\n",
       "      <td>...</td>\n",
       "      <td>...</td>\n",
       "      <td>...</td>\n",
       "    </tr>\n",
       "    <tr>\n",
       "      <th>247</th>\n",
       "      <td>https://www.linkedin.com/in/emmanuel-acheampong/</td>\n",
       "      <td>Post</td>\n",
       "      <td>hashtag#alwaysbelearning</td>\n",
       "      <td>4</td>\n",
       "      <td>0</td>\n",
       "      <td>10mo</td>\n",
       "      <td>2019-03-09T15:57:51.903Z</td>\n",
       "      <td>https://www.linkedin.com/feed/update/urn:li:ac...</td>\n",
       "    </tr>\n",
       "    <tr>\n",
       "      <th>248</th>\n",
       "      <td>https://www.linkedin.com/in/emmanuel-acheampong/</td>\n",
       "      <td>Post</td>\n",
       "      <td>I have been dabbling with virtual machines usi...</td>\n",
       "      <td>41</td>\n",
       "      <td>6</td>\n",
       "      <td>10mo</td>\n",
       "      <td>2019-03-09T15:57:51.903Z</td>\n",
       "      <td>https://www.linkedin.com/feed/update/urn:li:ac...</td>\n",
       "    </tr>\n",
       "    <tr>\n",
       "      <th>249</th>\n",
       "      <td>https://www.linkedin.com/in/emmanuel-acheampong/</td>\n",
       "      <td>Post</td>\n",
       "      <td>These inspiring stories on my LinkedIn feed ju...</td>\n",
       "      <td>11</td>\n",
       "      <td>0</td>\n",
       "      <td>10mo</td>\n",
       "      <td>2019-03-09T15:57:51.904Z</td>\n",
       "      <td>https://www.linkedin.com/feed/update/urn:li:ac...</td>\n",
       "    </tr>\n",
       "    <tr>\n",
       "      <th>250</th>\n",
       "      <td>https://www.linkedin.com/in/emmanuel-acheampong/</td>\n",
       "      <td>Post</td>\n",
       "      <td>“Never mind what others do; do better than you...</td>\n",
       "      <td>10</td>\n",
       "      <td>1</td>\n",
       "      <td>10mo</td>\n",
       "      <td>2019-03-09T15:57:51.904Z</td>\n",
       "      <td>https://www.linkedin.com/feed/update/urn:li:ac...</td>\n",
       "    </tr>\n",
       "    <tr>\n",
       "      <th>251</th>\n",
       "      <td>https://www.linkedin.com/in/emmanuel-acheampong/</td>\n",
       "      <td>Post</td>\n",
       "      <td>NaN</td>\n",
       "      <td>2</td>\n",
       "      <td>0</td>\n",
       "      <td>10mo</td>\n",
       "      <td>2019-03-09T15:57:51.904Z</td>\n",
       "      <td>https://www.linkedin.com/feed/update/urn:li:ac...</td>\n",
       "    </tr>\n",
       "  </tbody>\n",
       "</table>\n",
       "<p>252 rows × 8 columns</p>\n",
       "</div>"
      ]
     },
     "execution_count": 12,
     "metadata": {},
     "output_type": "execute_result"
    }
   ],
   "execution_count": 12
  },
  {
   "cell_type": "markdown",
   "id": "480ad47e",
   "metadata": {},
   "source": [
    "#### Prendre connaissance de son dataframe "
   ]
  },
  {
   "cell_type": "markdown",
   "id": "f604997b",
   "metadata": {},
   "source": [
    "###### Afficher les 5 premières lignes d'une dataframe"
   ]
  },
  {
   "cell_type": "code",
   "id": "3bdd879a",
   "metadata": {
    "ExecuteTime": {
     "end_time": "2024-05-22T08:36:02.669253Z",
     "start_time": "2024-05-22T08:36:02.659496Z"
    }
   },
   "source": [
    "df.head()"
   ],
   "outputs": [
    {
     "data": {
      "text/plain": [
       "                                         profileUrl  \\\n",
       "0  https://www.linkedin.com/in/emmanuel-acheampong/   \n",
       "1  https://www.linkedin.com/in/emmanuel-acheampong/   \n",
       "2  https://www.linkedin.com/in/emmanuel-acheampong/   \n",
       "3  https://www.linkedin.com/in/emmanuel-acheampong/   \n",
       "4  https://www.linkedin.com/in/emmanuel-acheampong/   \n",
       "\n",
       "                                              action  \\\n",
       "0  Emmanuel Acheampong posted in Student Learning...   \n",
       "1                                               Post   \n",
       "2                                               Post   \n",
       "3                                               Post   \n",
       "4                                               Post   \n",
       "\n",
       "                                         postContent  likeCount  commentCount  \\\n",
       "0  Hello everyone,\\n\\nAfter researching and havin...          0             0   \n",
       "1  Day 73/365\\nhashtag#365daysoflearning\\n\\nFor d...          8             2   \n",
       "2  Day 72/365\\nhashtag#365daysoflearning\\n\\nI hav...          1             1   \n",
       "3  Day 71/365\\nhashtag#365daysoflearning\\n\\nAs a ...          7             0   \n",
       "4  We're living in a generation where we cannot t...          5             1   \n",
       "\n",
       "  postDate                 timestamp  \\\n",
       "0      15h  2019-03-09T15:57:51.879Z   \n",
       "1      15h  2019-03-09T15:57:51.879Z   \n",
       "2       1d  2019-03-09T15:57:51.879Z   \n",
       "3       2d  2019-03-09T15:57:51.879Z   \n",
       "4       2d  2019-03-09T15:57:51.880Z   \n",
       "\n",
       "                                             postUrl  \n",
       "0                                                NaN  \n",
       "1  https://www.linkedin.com/feed/update/urn:li:ac...  \n",
       "2  https://www.linkedin.com/feed/update/urn:li:ac...  \n",
       "3  https://www.linkedin.com/feed/update/urn:li:ac...  \n",
       "4  https://www.linkedin.com/feed/update/urn:li:ac...  "
      ],
      "text/html": [
       "<div>\n",
       "<style scoped>\n",
       "    .dataframe tbody tr th:only-of-type {\n",
       "        vertical-align: middle;\n",
       "    }\n",
       "\n",
       "    .dataframe tbody tr th {\n",
       "        vertical-align: top;\n",
       "    }\n",
       "\n",
       "    .dataframe thead th {\n",
       "        text-align: right;\n",
       "    }\n",
       "</style>\n",
       "<table border=\"1\" class=\"dataframe\">\n",
       "  <thead>\n",
       "    <tr style=\"text-align: right;\">\n",
       "      <th></th>\n",
       "      <th>profileUrl</th>\n",
       "      <th>action</th>\n",
       "      <th>postContent</th>\n",
       "      <th>likeCount</th>\n",
       "      <th>commentCount</th>\n",
       "      <th>postDate</th>\n",
       "      <th>timestamp</th>\n",
       "      <th>postUrl</th>\n",
       "    </tr>\n",
       "  </thead>\n",
       "  <tbody>\n",
       "    <tr>\n",
       "      <th>0</th>\n",
       "      <td>https://www.linkedin.com/in/emmanuel-acheampong/</td>\n",
       "      <td>Emmanuel Acheampong posted in Student Learning...</td>\n",
       "      <td>Hello everyone,\\n\\nAfter researching and havin...</td>\n",
       "      <td>0</td>\n",
       "      <td>0</td>\n",
       "      <td>15h</td>\n",
       "      <td>2019-03-09T15:57:51.879Z</td>\n",
       "      <td>NaN</td>\n",
       "    </tr>\n",
       "    <tr>\n",
       "      <th>1</th>\n",
       "      <td>https://www.linkedin.com/in/emmanuel-acheampong/</td>\n",
       "      <td>Post</td>\n",
       "      <td>Day 73/365\\nhashtag#365daysoflearning\\n\\nFor d...</td>\n",
       "      <td>8</td>\n",
       "      <td>2</td>\n",
       "      <td>15h</td>\n",
       "      <td>2019-03-09T15:57:51.879Z</td>\n",
       "      <td>https://www.linkedin.com/feed/update/urn:li:ac...</td>\n",
       "    </tr>\n",
       "    <tr>\n",
       "      <th>2</th>\n",
       "      <td>https://www.linkedin.com/in/emmanuel-acheampong/</td>\n",
       "      <td>Post</td>\n",
       "      <td>Day 72/365\\nhashtag#365daysoflearning\\n\\nI hav...</td>\n",
       "      <td>1</td>\n",
       "      <td>1</td>\n",
       "      <td>1d</td>\n",
       "      <td>2019-03-09T15:57:51.879Z</td>\n",
       "      <td>https://www.linkedin.com/feed/update/urn:li:ac...</td>\n",
       "    </tr>\n",
       "    <tr>\n",
       "      <th>3</th>\n",
       "      <td>https://www.linkedin.com/in/emmanuel-acheampong/</td>\n",
       "      <td>Post</td>\n",
       "      <td>Day 71/365\\nhashtag#365daysoflearning\\n\\nAs a ...</td>\n",
       "      <td>7</td>\n",
       "      <td>0</td>\n",
       "      <td>2d</td>\n",
       "      <td>2019-03-09T15:57:51.879Z</td>\n",
       "      <td>https://www.linkedin.com/feed/update/urn:li:ac...</td>\n",
       "    </tr>\n",
       "    <tr>\n",
       "      <th>4</th>\n",
       "      <td>https://www.linkedin.com/in/emmanuel-acheampong/</td>\n",
       "      <td>Post</td>\n",
       "      <td>We're living in a generation where we cannot t...</td>\n",
       "      <td>5</td>\n",
       "      <td>1</td>\n",
       "      <td>2d</td>\n",
       "      <td>2019-03-09T15:57:51.880Z</td>\n",
       "      <td>https://www.linkedin.com/feed/update/urn:li:ac...</td>\n",
       "    </tr>\n",
       "  </tbody>\n",
       "</table>\n",
       "</div>"
      ]
     },
     "execution_count": 13,
     "metadata": {},
     "output_type": "execute_result"
    }
   ],
   "execution_count": 13
  },
  {
   "cell_type": "markdown",
   "id": "afe6163c",
   "metadata": {},
   "source": [
    " ###### Connaître le nombre de colonnes et le nombre de lignes d'une dataframe"
   ]
  },
  {
   "cell_type": "code",
   "id": "cc686600",
   "metadata": {
    "ExecuteTime": {
     "end_time": "2024-05-22T08:46:04.706303Z",
     "start_time": "2024-05-22T08:46:04.702038Z"
    }
   },
   "source": [
    "df.shape # description générale"
   ],
   "outputs": [
    {
     "data": {
      "text/plain": [
       "(252, 8)"
      ]
     },
     "execution_count": 14,
     "metadata": {},
     "output_type": "execute_result"
    }
   ],
   "execution_count": 14
  },
  {
   "cell_type": "markdown",
   "id": "bd2c4186",
   "metadata": {},
   "source": [
    "###### Connaître le nom des colonnes"
   ]
  },
  {
   "cell_type": "code",
   "id": "41c2ba65",
   "metadata": {
    "ExecuteTime": {
     "end_time": "2024-05-22T08:47:33.464309Z",
     "start_time": "2024-05-22T08:47:33.459606Z"
    }
   },
   "source": [
    "df.columns"
   ],
   "outputs": [
    {
     "data": {
      "text/plain": [
       "Index(['profileUrl', 'action', 'postContent', 'likeCount', 'commentCount',\n",
       "       'postDate', 'timestamp', 'postUrl'],\n",
       "      dtype='object')"
      ]
     },
     "execution_count": 15,
     "metadata": {},
     "output_type": "execute_result"
    }
   ],
   "execution_count": 15
  },
  {
   "cell_type": "markdown",
   "id": "72118efd",
   "metadata": {},
   "source": [
    "###### Obtenir les informations générales de notre dataframe "
   ]
  },
  {
   "cell_type": "code",
   "id": "7a32a05d",
   "metadata": {
    "ExecuteTime": {
     "end_time": "2024-05-22T08:48:39.221220Z",
     "start_time": "2024-05-22T08:48:39.210433Z"
    }
   },
   "source": [
    "df.info()"
   ],
   "outputs": [
    {
     "name": "stdout",
     "output_type": "stream",
     "text": [
      "<class 'pandas.core.frame.DataFrame'>\n",
      "RangeIndex: 252 entries, 0 to 251\n",
      "Data columns (total 8 columns):\n",
      " #   Column        Non-Null Count  Dtype \n",
      "---  ------        --------------  ----- \n",
      " 0   profileUrl    252 non-null    object\n",
      " 1   action        252 non-null    object\n",
      " 2   postContent   246 non-null    object\n",
      " 3   likeCount     252 non-null    int64 \n",
      " 4   commentCount  252 non-null    int64 \n",
      " 5   postDate      252 non-null    object\n",
      " 6   timestamp     252 non-null    object\n",
      " 7   postUrl       251 non-null    object\n",
      "dtypes: int64(2), object(6)\n",
      "memory usage: 15.9+ KB\n"
     ]
    }
   ],
   "execution_count": 16
  },
  {
   "cell_type": "markdown",
   "id": "b88153da",
   "metadata": {},
   "source": [
    "#### 3. Nettoyage des données "
   ]
  },
  {
   "cell_type": "code",
   "id": "57d76421",
   "metadata": {
    "ExecuteTime": {
     "end_time": "2024-05-22T08:50:43.040782Z",
     "start_time": "2024-05-22T08:50:43.036207Z"
    }
   },
   "source": "df[\"postContent\"]",
   "outputs": [
    {
     "data": {
      "text/plain": [
       "0      Hello everyone,\\n\\nAfter researching and havin...\n",
       "1      Day 73/365\\nhashtag#365daysoflearning\\n\\nFor d...\n",
       "2      Day 72/365\\nhashtag#365daysoflearning\\n\\nI hav...\n",
       "3      Day 71/365\\nhashtag#365daysoflearning\\n\\nAs a ...\n",
       "4      We're living in a generation where we cannot t...\n",
       "                             ...                        \n",
       "247                             hashtag#alwaysbelearning\n",
       "248    I have been dabbling with virtual machines usi...\n",
       "249    These inspiring stories on my LinkedIn feed ju...\n",
       "250    “Never mind what others do; do better than you...\n",
       "251                                                  NaN\n",
       "Name: postContent, Length: 252, dtype: object"
      ]
     },
     "execution_count": 17,
     "metadata": {},
     "output_type": "execute_result"
    }
   ],
   "execution_count": 17
  },
  {
   "cell_type": "code",
   "id": "e5bd36c7",
   "metadata": {
    "ExecuteTime": {
     "end_time": "2024-05-22T09:20:32.743057Z",
     "start_time": "2024-05-22T09:20:32.717533Z"
    }
   },
   "source": [
    "import re\n",
    "# Missing values : Convert all entries to strings and handle NaN values\n",
    "df.loc[:, \"postContent\"] = df[\"postContent\"].fillna(\"missing\").astype(str)\n",
    "\n",
    "# Normalisation : Apply the regex substitution and lowercasing using .loc and replace multi space by one space\n",
    "df.loc[:, \"postContent\"] = df[\"postContent\"].apply(lambda x: re.sub(r\"\\W+\", \" \", x.lower()))\n",
    "\n",
    "print(df)"
   ],
   "outputs": [
    {
     "name": "stdout",
     "output_type": "stream",
     "text": [
      "                                           profileUrl  \\\n",
      "0    https://www.linkedin.com/in/emmanuel-acheampong/   \n",
      "1    https://www.linkedin.com/in/emmanuel-acheampong/   \n",
      "2    https://www.linkedin.com/in/emmanuel-acheampong/   \n",
      "3    https://www.linkedin.com/in/emmanuel-acheampong/   \n",
      "4    https://www.linkedin.com/in/emmanuel-acheampong/   \n",
      "..                                                ...   \n",
      "247  https://www.linkedin.com/in/emmanuel-acheampong/   \n",
      "248  https://www.linkedin.com/in/emmanuel-acheampong/   \n",
      "249  https://www.linkedin.com/in/emmanuel-acheampong/   \n",
      "250  https://www.linkedin.com/in/emmanuel-acheampong/   \n",
      "251  https://www.linkedin.com/in/emmanuel-acheampong/   \n",
      "\n",
      "                                                action  \\\n",
      "0    Emmanuel Acheampong posted in Student Learning...   \n",
      "1                                                 Post   \n",
      "2                                                 Post   \n",
      "3                                                 Post   \n",
      "4                                                 Post   \n",
      "..                                                 ...   \n",
      "247                                               Post   \n",
      "248                                               Post   \n",
      "249                                               Post   \n",
      "250                                               Post   \n",
      "251                                               Post   \n",
      "\n",
      "                                           postContent  likeCount  \\\n",
      "0    hello everyone after researching and having mu...          0   \n",
      "1    day 73 365 hashtag 365daysoflearning for day 7...          8   \n",
      "2    day 72 365 hashtag 365daysoflearning i have be...          1   \n",
      "3    day 71 365 hashtag 365daysoflearning as a pers...          7   \n",
      "4    we re living in a generation where we cannot t...          5   \n",
      "..                                                 ...        ...   \n",
      "247                           hashtag alwaysbelearning          4   \n",
      "248  i have been dabbling with virtual machines usi...         41   \n",
      "249  these inspiring stories on my linkedin feed ju...         11   \n",
      "250   never mind what others do do better than your...         10   \n",
      "251                                            missing          2   \n",
      "\n",
      "     commentCount postDate                 timestamp  \\\n",
      "0               0      15h  2019-03-09T15:57:51.879Z   \n",
      "1               2      15h  2019-03-09T15:57:51.879Z   \n",
      "2               1       1d  2019-03-09T15:57:51.879Z   \n",
      "3               0       2d  2019-03-09T15:57:51.879Z   \n",
      "4               1       2d  2019-03-09T15:57:51.880Z   \n",
      "..            ...      ...                       ...   \n",
      "247             0     10mo  2019-03-09T15:57:51.903Z   \n",
      "248             6     10mo  2019-03-09T15:57:51.903Z   \n",
      "249             0     10mo  2019-03-09T15:57:51.904Z   \n",
      "250             1     10mo  2019-03-09T15:57:51.904Z   \n",
      "251             0     10mo  2019-03-09T15:57:51.904Z   \n",
      "\n",
      "                                               postUrl  \n",
      "0                                                  NaN  \n",
      "1    https://www.linkedin.com/feed/update/urn:li:ac...  \n",
      "2    https://www.linkedin.com/feed/update/urn:li:ac...  \n",
      "3    https://www.linkedin.com/feed/update/urn:li:ac...  \n",
      "4    https://www.linkedin.com/feed/update/urn:li:ac...  \n",
      "..                                                 ...  \n",
      "247  https://www.linkedin.com/feed/update/urn:li:ac...  \n",
      "248  https://www.linkedin.com/feed/update/urn:li:ac...  \n",
      "249  https://www.linkedin.com/feed/update/urn:li:ac...  \n",
      "250  https://www.linkedin.com/feed/update/urn:li:ac...  \n",
      "251  https://www.linkedin.com/feed/update/urn:li:ac...  \n",
      "\n",
      "[252 rows x 8 columns]\n"
     ]
    }
   ],
   "execution_count": 21
  },
  {
   "metadata": {
    "ExecuteTime": {
     "end_time": "2024-05-22T09:20:34.137976Z",
     "start_time": "2024-05-22T09:20:34.124015Z"
    }
   },
   "cell_type": "code",
   "source": "df",
   "id": "b6d910b369fc6de9",
   "outputs": [
    {
     "data": {
      "text/plain": [
       "                                           profileUrl  \\\n",
       "0    https://www.linkedin.com/in/emmanuel-acheampong/   \n",
       "1    https://www.linkedin.com/in/emmanuel-acheampong/   \n",
       "2    https://www.linkedin.com/in/emmanuel-acheampong/   \n",
       "3    https://www.linkedin.com/in/emmanuel-acheampong/   \n",
       "4    https://www.linkedin.com/in/emmanuel-acheampong/   \n",
       "..                                                ...   \n",
       "247  https://www.linkedin.com/in/emmanuel-acheampong/   \n",
       "248  https://www.linkedin.com/in/emmanuel-acheampong/   \n",
       "249  https://www.linkedin.com/in/emmanuel-acheampong/   \n",
       "250  https://www.linkedin.com/in/emmanuel-acheampong/   \n",
       "251  https://www.linkedin.com/in/emmanuel-acheampong/   \n",
       "\n",
       "                                                action  \\\n",
       "0    Emmanuel Acheampong posted in Student Learning...   \n",
       "1                                                 Post   \n",
       "2                                                 Post   \n",
       "3                                                 Post   \n",
       "4                                                 Post   \n",
       "..                                                 ...   \n",
       "247                                               Post   \n",
       "248                                               Post   \n",
       "249                                               Post   \n",
       "250                                               Post   \n",
       "251                                               Post   \n",
       "\n",
       "                                           postContent  likeCount  \\\n",
       "0    hello everyone after researching and having mu...          0   \n",
       "1    day 73 365 hashtag 365daysoflearning for day 7...          8   \n",
       "2    day 72 365 hashtag 365daysoflearning i have be...          1   \n",
       "3    day 71 365 hashtag 365daysoflearning as a pers...          7   \n",
       "4    we re living in a generation where we cannot t...          5   \n",
       "..                                                 ...        ...   \n",
       "247                           hashtag alwaysbelearning          4   \n",
       "248  i have been dabbling with virtual machines usi...         41   \n",
       "249  these inspiring stories on my linkedin feed ju...         11   \n",
       "250   never mind what others do do better than your...         10   \n",
       "251                                            missing          2   \n",
       "\n",
       "     commentCount postDate                 timestamp  \\\n",
       "0               0      15h  2019-03-09T15:57:51.879Z   \n",
       "1               2      15h  2019-03-09T15:57:51.879Z   \n",
       "2               1       1d  2019-03-09T15:57:51.879Z   \n",
       "3               0       2d  2019-03-09T15:57:51.879Z   \n",
       "4               1       2d  2019-03-09T15:57:51.880Z   \n",
       "..            ...      ...                       ...   \n",
       "247             0     10mo  2019-03-09T15:57:51.903Z   \n",
       "248             6     10mo  2019-03-09T15:57:51.903Z   \n",
       "249             0     10mo  2019-03-09T15:57:51.904Z   \n",
       "250             1     10mo  2019-03-09T15:57:51.904Z   \n",
       "251             0     10mo  2019-03-09T15:57:51.904Z   \n",
       "\n",
       "                                               postUrl  \n",
       "0                                                  NaN  \n",
       "1    https://www.linkedin.com/feed/update/urn:li:ac...  \n",
       "2    https://www.linkedin.com/feed/update/urn:li:ac...  \n",
       "3    https://www.linkedin.com/feed/update/urn:li:ac...  \n",
       "4    https://www.linkedin.com/feed/update/urn:li:ac...  \n",
       "..                                                 ...  \n",
       "247  https://www.linkedin.com/feed/update/urn:li:ac...  \n",
       "248  https://www.linkedin.com/feed/update/urn:li:ac...  \n",
       "249  https://www.linkedin.com/feed/update/urn:li:ac...  \n",
       "250  https://www.linkedin.com/feed/update/urn:li:ac...  \n",
       "251  https://www.linkedin.com/feed/update/urn:li:ac...  \n",
       "\n",
       "[252 rows x 8 columns]"
      ],
      "text/html": [
       "<div>\n",
       "<style scoped>\n",
       "    .dataframe tbody tr th:only-of-type {\n",
       "        vertical-align: middle;\n",
       "    }\n",
       "\n",
       "    .dataframe tbody tr th {\n",
       "        vertical-align: top;\n",
       "    }\n",
       "\n",
       "    .dataframe thead th {\n",
       "        text-align: right;\n",
       "    }\n",
       "</style>\n",
       "<table border=\"1\" class=\"dataframe\">\n",
       "  <thead>\n",
       "    <tr style=\"text-align: right;\">\n",
       "      <th></th>\n",
       "      <th>profileUrl</th>\n",
       "      <th>action</th>\n",
       "      <th>postContent</th>\n",
       "      <th>likeCount</th>\n",
       "      <th>commentCount</th>\n",
       "      <th>postDate</th>\n",
       "      <th>timestamp</th>\n",
       "      <th>postUrl</th>\n",
       "    </tr>\n",
       "  </thead>\n",
       "  <tbody>\n",
       "    <tr>\n",
       "      <th>0</th>\n",
       "      <td>https://www.linkedin.com/in/emmanuel-acheampong/</td>\n",
       "      <td>Emmanuel Acheampong posted in Student Learning...</td>\n",
       "      <td>hello everyone after researching and having mu...</td>\n",
       "      <td>0</td>\n",
       "      <td>0</td>\n",
       "      <td>15h</td>\n",
       "      <td>2019-03-09T15:57:51.879Z</td>\n",
       "      <td>NaN</td>\n",
       "    </tr>\n",
       "    <tr>\n",
       "      <th>1</th>\n",
       "      <td>https://www.linkedin.com/in/emmanuel-acheampong/</td>\n",
       "      <td>Post</td>\n",
       "      <td>day 73 365 hashtag 365daysoflearning for day 7...</td>\n",
       "      <td>8</td>\n",
       "      <td>2</td>\n",
       "      <td>15h</td>\n",
       "      <td>2019-03-09T15:57:51.879Z</td>\n",
       "      <td>https://www.linkedin.com/feed/update/urn:li:ac...</td>\n",
       "    </tr>\n",
       "    <tr>\n",
       "      <th>2</th>\n",
       "      <td>https://www.linkedin.com/in/emmanuel-acheampong/</td>\n",
       "      <td>Post</td>\n",
       "      <td>day 72 365 hashtag 365daysoflearning i have be...</td>\n",
       "      <td>1</td>\n",
       "      <td>1</td>\n",
       "      <td>1d</td>\n",
       "      <td>2019-03-09T15:57:51.879Z</td>\n",
       "      <td>https://www.linkedin.com/feed/update/urn:li:ac...</td>\n",
       "    </tr>\n",
       "    <tr>\n",
       "      <th>3</th>\n",
       "      <td>https://www.linkedin.com/in/emmanuel-acheampong/</td>\n",
       "      <td>Post</td>\n",
       "      <td>day 71 365 hashtag 365daysoflearning as a pers...</td>\n",
       "      <td>7</td>\n",
       "      <td>0</td>\n",
       "      <td>2d</td>\n",
       "      <td>2019-03-09T15:57:51.879Z</td>\n",
       "      <td>https://www.linkedin.com/feed/update/urn:li:ac...</td>\n",
       "    </tr>\n",
       "    <tr>\n",
       "      <th>4</th>\n",
       "      <td>https://www.linkedin.com/in/emmanuel-acheampong/</td>\n",
       "      <td>Post</td>\n",
       "      <td>we re living in a generation where we cannot t...</td>\n",
       "      <td>5</td>\n",
       "      <td>1</td>\n",
       "      <td>2d</td>\n",
       "      <td>2019-03-09T15:57:51.880Z</td>\n",
       "      <td>https://www.linkedin.com/feed/update/urn:li:ac...</td>\n",
       "    </tr>\n",
       "    <tr>\n",
       "      <th>...</th>\n",
       "      <td>...</td>\n",
       "      <td>...</td>\n",
       "      <td>...</td>\n",
       "      <td>...</td>\n",
       "      <td>...</td>\n",
       "      <td>...</td>\n",
       "      <td>...</td>\n",
       "      <td>...</td>\n",
       "    </tr>\n",
       "    <tr>\n",
       "      <th>247</th>\n",
       "      <td>https://www.linkedin.com/in/emmanuel-acheampong/</td>\n",
       "      <td>Post</td>\n",
       "      <td>hashtag alwaysbelearning</td>\n",
       "      <td>4</td>\n",
       "      <td>0</td>\n",
       "      <td>10mo</td>\n",
       "      <td>2019-03-09T15:57:51.903Z</td>\n",
       "      <td>https://www.linkedin.com/feed/update/urn:li:ac...</td>\n",
       "    </tr>\n",
       "    <tr>\n",
       "      <th>248</th>\n",
       "      <td>https://www.linkedin.com/in/emmanuel-acheampong/</td>\n",
       "      <td>Post</td>\n",
       "      <td>i have been dabbling with virtual machines usi...</td>\n",
       "      <td>41</td>\n",
       "      <td>6</td>\n",
       "      <td>10mo</td>\n",
       "      <td>2019-03-09T15:57:51.903Z</td>\n",
       "      <td>https://www.linkedin.com/feed/update/urn:li:ac...</td>\n",
       "    </tr>\n",
       "    <tr>\n",
       "      <th>249</th>\n",
       "      <td>https://www.linkedin.com/in/emmanuel-acheampong/</td>\n",
       "      <td>Post</td>\n",
       "      <td>these inspiring stories on my linkedin feed ju...</td>\n",
       "      <td>11</td>\n",
       "      <td>0</td>\n",
       "      <td>10mo</td>\n",
       "      <td>2019-03-09T15:57:51.904Z</td>\n",
       "      <td>https://www.linkedin.com/feed/update/urn:li:ac...</td>\n",
       "    </tr>\n",
       "    <tr>\n",
       "      <th>250</th>\n",
       "      <td>https://www.linkedin.com/in/emmanuel-acheampong/</td>\n",
       "      <td>Post</td>\n",
       "      <td>never mind what others do do better than your...</td>\n",
       "      <td>10</td>\n",
       "      <td>1</td>\n",
       "      <td>10mo</td>\n",
       "      <td>2019-03-09T15:57:51.904Z</td>\n",
       "      <td>https://www.linkedin.com/feed/update/urn:li:ac...</td>\n",
       "    </tr>\n",
       "    <tr>\n",
       "      <th>251</th>\n",
       "      <td>https://www.linkedin.com/in/emmanuel-acheampong/</td>\n",
       "      <td>Post</td>\n",
       "      <td>missing</td>\n",
       "      <td>2</td>\n",
       "      <td>0</td>\n",
       "      <td>10mo</td>\n",
       "      <td>2019-03-09T15:57:51.904Z</td>\n",
       "      <td>https://www.linkedin.com/feed/update/urn:li:ac...</td>\n",
       "    </tr>\n",
       "  </tbody>\n",
       "</table>\n",
       "<p>252 rows × 8 columns</p>\n",
       "</div>"
      ]
     },
     "execution_count": 22,
     "metadata": {},
     "output_type": "execute_result"
    }
   ],
   "execution_count": 22
  },
  {
   "cell_type": "markdown",
   "id": "fa953dc3",
   "metadata": {},
   "source": [
    "#### 4. Préparation des données "
   ]
  },
  {
   "metadata": {
    "ExecuteTime": {
     "end_time": "2024-05-21T23:09:23.834675Z",
     "start_time": "2024-05-21T23:09:12.571398Z"
    }
   },
   "cell_type": "code",
   "source": "#!pip install stop-words\n",
   "id": "6d8ddfd6b3d84985",
   "outputs": [
    {
     "name": "stdout",
     "output_type": "stream",
     "text": [
      "Collecting stop-words\r\n",
      "  Downloading stop-words-2018.7.23.tar.gz (31 kB)\r\n",
      "  Preparing metadata (setup.py) ... \u001B[?25ldone\r\n",
      "\u001B[?25hBuilding wheels for collected packages: stop-words\r\n",
      "  Building wheel for stop-words (setup.py) ... \u001B[?25ldone\r\n",
      "\u001B[?25h  Created wheel for stop-words: filename=stop_words-2018.7.23-py3-none-any.whl size=32895 sha256=dfdeb2e1d64045f245e8400712af1c795da50b9a7b90504fcb17d44d50535940\r\n",
      "  Stored in directory: /home/keke/.cache/pip/wheels/8f/a5/51/a5405e1da5d178491b79d12cc81b6cb9bb14fe2c8c632eba70\r\n",
      "Successfully built stop-words\r\n",
      "Installing collected packages: stop-words\r\n",
      "Successfully installed stop-words-2018.7.23\r\n"
     ]
    }
   ],
   "execution_count": 37
  },
  {
   "cell_type": "code",
   "id": "3aafcb51",
   "metadata": {
    "ExecuteTime": {
     "end_time": "2024-05-22T09:20:41.158850Z",
     "start_time": "2024-05-22T09:20:41.131796Z"
    }
   },
   "source": [
    "# if french\n",
    "# from stop_words import get_stop_words\n",
    "# stop_words = get_stop_words('french')\n",
    "# tfidf_vectorizer = TfidfVectorizer(max_df=0.95, min_df=2, max_features=1000, stop_words=stop_words) \n",
    "\n",
    "tfidf_vectorizer = TfidfVectorizer(max_df=0.95, min_df=2, max_features=1000, stop_words='english')\n",
    "\n",
    "tfidf = tfidf_vectorizer.fit_transform(df['postContent'])"
   ],
   "outputs": [],
   "execution_count": 23
  },
  {
   "metadata": {},
   "cell_type": "markdown",
   "source": [
    "On utilise le TfidfVectorizer pour convertir les textes en une matrice TF-IDF, un format utilisable pour les modèles de machine learning:\n",
    "\n",
    "-> max_df=0.95 ignore les termes qui apparaissent dans plus de 95% des documents.\n",
    "\n",
    "-> min_df=2 ignore les termes qui apparaissent dans moins de 2 documents.\n",
    "\n",
    "-> stop_words='english' élimine les mots courants en anglais (stop words)."
   ],
   "id": "66bed9f7174a7557"
  },
  {
   "metadata": {
    "ExecuteTime": {
     "end_time": "2024-05-22T09:20:46.227778Z",
     "start_time": "2024-05-22T09:20:46.224573Z"
    }
   },
   "cell_type": "code",
   "source": "tfidf.shape",
   "id": "9c9ec6e0710505c7",
   "outputs": [
    {
     "data": {
      "text/plain": [
       "(252, 1000)"
      ]
     },
     "execution_count": 24,
     "metadata": {},
     "output_type": "execute_result"
    }
   ],
   "execution_count": 24
  },
  {
   "metadata": {
    "ExecuteTime": {
     "end_time": "2024-05-22T09:22:14.893681Z",
     "start_time": "2024-05-22T09:22:14.889914Z"
    }
   },
   "cell_type": "code",
   "source": "tfidf",
   "id": "c5637f91e6422ba9",
   "outputs": [
    {
     "data": {
      "text/plain": [
       "<252x1000 sparse matrix of type '<class 'numpy.float64'>'\n",
       "\twith 8261 stored elements in Compressed Sparse Row format>"
      ]
     },
     "execution_count": 26,
     "metadata": {},
     "output_type": "execute_result"
    }
   ],
   "execution_count": 26
  },
  {
   "metadata": {
    "ExecuteTime": {
     "end_time": "2024-05-22T09:22:39.743443Z",
     "start_time": "2024-05-22T09:22:39.738872Z"
    }
   },
   "cell_type": "code",
   "source": "tfidf.toarray()",
   "id": "7db5492d2fa7a2a8",
   "outputs": [
    {
     "data": {
      "text/plain": [
       "array([[0., 0., 0., ..., 0., 0., 0.],\n",
       "       [0., 0., 0., ..., 0., 0., 0.],\n",
       "       [0., 0., 0., ..., 0., 0., 0.],\n",
       "       ...,\n",
       "       [0., 0., 0., ..., 0., 0., 0.],\n",
       "       [0., 0., 0., ..., 0., 0., 0.],\n",
       "       [0., 0., 0., ..., 0., 0., 0.]])"
      ]
     },
     "execution_count": 27,
     "metadata": {},
     "output_type": "execute_result"
    }
   ],
   "execution_count": 27
  },
  {
   "metadata": {
    "ExecuteTime": {
     "end_time": "2024-05-22T09:23:28.357106Z",
     "start_time": "2024-05-22T09:23:28.351579Z"
    }
   },
   "cell_type": "code",
   "source": "tfidf_vectorizer.get_feature_names_out()",
   "id": "b343653ddf6d749e",
   "outputs": [
    {
     "data": {
      "text/plain": [
       "array(['000', '10', '100', '12', '20', '2018', '2019', '30', '365',\n",
       "       '365daysoflearning', 'ability', 'able', 'absolutely', 'academic',\n",
       "       'access', 'acclaim', 'achievement', 'active', 'actually', 'add',\n",
       "       'adding', 'addition', 'address', 'addresses', 'advanced',\n",
       "       'advantage', 'advice', 'africa', 'age', 'agile', 'ahead', 'ai',\n",
       "       'aid', 'alex', 'algorithm', 'algorithms', 'allow', 'allowed',\n",
       "       'allows', 'alwaysbelearning', 'amazing', 'analysis', 'andrew',\n",
       "       'answer', 'anxiety', 'anybody', 'api', 'apis', 'app', 'apple',\n",
       "       'application', 'applications', 'applied', 'apply', 'applying',\n",
       "       'appreciate', 'approach', 'apps', 'ar', 'arena', 'art', 'article',\n",
       "       'articles', 'artificial', 'artificialintelligence', 'ask', 'asked',\n",
       "       'attend', 'attention', 'attract', 'available', 'aware', 'away',\n",
       "       'awesome', 'aws', 'azure', 'background', 'bad', 'bakhirev', 'bash',\n",
       "       'basic', 'basics', 'beautiful', 'beauty', 'began', 'begin',\n",
       "       'beginning', 'believe', 'belinga', 'benefit', 'berea', 'bernard',\n",
       "       'best', 'better', 'biased', 'big', 'bigdata', 'bigquery',\n",
       "       'billionaire', 'bit', 'black', 'blood', 'blown', 'book', 'books',\n",
       "       'brain', 'brandon', 'break', 'bring', 'broken', 'brush', 'build',\n",
       "       'building', 'builds', 'built', 'business', 'busy', 'calculus',\n",
       "       'called', 'came', 'capital', 'capstone', 'care', 'career',\n",
       "       'careful', 'carl', 'carla', 'carreyrou', 'certain', 'certificate',\n",
       "       'challenge', 'challenges', 'challenging', 'chance', 'change',\n",
       "       'changed', 'changes', 'changing', 'characters', 'charles', 'check',\n",
       "       'chinenye', 'choice', 'choose', 'chukwuemeka', 'class', 'classes',\n",
       "       'close', 'cloud', 'code', 'coding', 'cognitive', 'cognitiveclass',\n",
       "       'college', 'com', 'come', 'comes', 'coming', 'comments',\n",
       "       'communicate', 'community', 'companies', 'company', 'complete',\n",
       "       'completed', 'complex', 'computer', 'computerscience', 'computing',\n",
       "       'concepts', 'conclusive', 'conference', 'consider', 'consistency',\n",
       "       'constant', 'content', 'continue', 'continued', 'continues',\n",
       "       'continuous', 'contribute', 'conversation', 'cool', 'cost',\n",
       "       'couldn', 'couple', 'course', 'coursera', 'courses', 'cover',\n",
       "       'covers', 'cowan', 'create', 'created', 'creating', 'creators',\n",
       "       'credit', 'credits', 'cs', 'culture', 'curated', 'curiosity',\n",
       "       'curious', 'currency', 'current', 'currently', 'curriculum',\n",
       "       'curve', 'daily', 'data', 'dataengineering', 'david', 'day',\n",
       "       'days', 'dear', 'decided', 'deep', 'deeplearning', 'definitely',\n",
       "       'deserve', 'design', 'develop', 'developers', 'developing',\n",
       "       'development', 'devices', 'did', 'didn', 'different',\n",
       "       'differential', 'difficult', 'directly', 'discusses', 'discussion',\n",
       "       'documentation', 'does', 'doesn', 'doing', 'don', 'dream',\n",
       "       'dreams', 'du', 'early', 'easier', 'easy', 'education',\n",
       "       'educational', 'effectively', 'elizabeth', 'emmerson',\n",
       "       'encountered', 'end', 'engage', 'engaging', 'engineer',\n",
       "       'engineering', 'enjoy', 'enjoyed', 'environment', 'especially',\n",
       "       'essential', 'esther', 'eventually', 'everybody', 'example',\n",
       "       'excel', 'excellence', 'excellent', 'excited', 'exercise',\n",
       "       'exercises', 'expensive', 'experience', 'experiences',\n",
       "       'experiment', 'experimented', 'experimenting', 'experiments',\n",
       "       'experts', 'explain', 'explaining', 'exploration', 'explore',\n",
       "       'exploring', 'express', 'extremely', 'facebook', 'fail', 'failed',\n",
       "       'familiar', 'far', 'fast', 'favorite', 'fear', 'feed', 'feedback',\n",
       "       'feel', 'feeling', 'figure', 'file', 'files', 'final', 'finally',\n",
       "       'finance', 'financial', 'finding', 'finish', 'finished', 'fish',\n",
       "       'fit', 'focus', 'folium', 'follow', 'forbes', 'forget', 'form',\n",
       "       'formal', 'forson', 'forth', 'fortunate', 'forward', 'frank',\n",
       "       'free', 'french', 'frequently', 'friend', 'fully', 'fun',\n",
       "       'functions', 'fundamentals', 'funny', 'future', 'gain', 'galaxy',\n",
       "       'gap', 'gates', 'gave', 'gaëlle', 'gcp', 'general', 'generation',\n",
       "       'genuinely', 'getting', 'ghana', 'gift', 'github', 'given',\n",
       "       'gives', 'giving', 'glad', 'goal', 'goals', 'goes', 'going',\n",
       "       'good', 'google', 'googlecloud', 'got', 'grade', 'grades',\n",
       "       'graduate', 'graduation', 'grateful', 'gre', 'great', 'greatest',\n",
       "       'greatly', 'group', 'grow', 'growing', 'growth', 'growwithgoogle',\n",
       "       'hackerrank', 'hand', 'hands', 'happen', 'happy', 'hard',\n",
       "       'hardware', 'harris', 'hashtag', 'hate', 'having', 'hbcu', 'hbo',\n",
       "       'hear', 'heard', 'heart', 'heavily', 'hello', 'help', 'helped',\n",
       "       'helpful', 'helps', 'heroes', 'high', 'highly', 'hill', 'hiring',\n",
       "       'history', 'hold', 'home', 'honest', 'honor', 'hope', 'hopefully',\n",
       "       'hoping', 'host', 'hours', 'house', 'https', 'human', 'hustle',\n",
       "       'ibm', 'idea', 'ideas', 'ides', 'images', 'imagine', 'impact',\n",
       "       'imperial', 'implement', 'implemented', 'importance', 'important',\n",
       "       'importantly', 'impressed', 'include', 'including', 'increase',\n",
       "       'incredible', 'incredibly', 'industry', 'information',\n",
       "       'initiative', 'insane', 'insights', 'inspiration', 'inspired',\n",
       "       'instead', 'instructor', 'instructors', 'integrated',\n",
       "       'intellectually', 'intelligence', 'interact', 'interested',\n",
       "       'interesting', 'interests', 'internship', 'intersection',\n",
       "       'interview', 'interviewer', 'interviewing', 'interviews',\n",
       "       'intrigued', 'introduced', 'introducing', 'introduction',\n",
       "       'intuition', 'inventory', 'isaac', 'javascript', 'job', 'john',\n",
       "       'join', 'journey', 'jupyter', 'jupyternotebooks', 'just', 'kaggle',\n",
       "       'keeps', 'kept', 'key', 'kibble', 'knew', 'know', 'knowledge',\n",
       "       'knows', 'labor', 'labs', 'landscape', 'language', 'large',\n",
       "       'later', 'lead', 'leaders', 'learn', 'learned', 'learning', 'led',\n",
       "       'lesson', 'lessons', 'let', 'letter', 'life', 'lifetime', 'like',\n",
       "       'line', 'lines', 'link', 'linkedin', 'list', 'little', 'live',\n",
       "       'lives', 'living', 'll', 'lnkd', 'long', 'longer', 'look',\n",
       "       'looking', 'lose', 'lot', 'love', 'loved', 'loves', 'low',\n",
       "       'lslacohort2019', 'ly', 'machine', 'machinelearning', 'main',\n",
       "       'major', 'make', 'makes', 'making', 'man', 'management', 'manner',\n",
       "       'marcellus', 'march', 'market', 'material', 'materials', 'math',\n",
       "       'mathematica', 'mathematical', 'mathematics', 'matplotlib',\n",
       "       'matter', 'maya', 'mean', 'means', 'meant', 'media', 'meet',\n",
       "       'michael', 'microsoft', 'mind', 'mini', 'minor', 'miss', 'missed',\n",
       "       'missing', 'mistakes', 'ml', 'mobile', 'model', 'models', 'module',\n",
       "       'modules', 'moment', 'money', 'month', 'months', 'mooc', 'moocs',\n",
       "       'moon', 'morgan', 'morning', 'motivated', 'motivation', 'moved',\n",
       "       'movie', 'moving', 'multiple', 'music', 'native', 'nb',\n",
       "       'necessary', 'need', 'needs', 'netflix', 'network', 'networking',\n",
       "       'networks', 'neural', 'neves', 'new', 'news', 'newton', 'ng',\n",
       "       'ngwenya', 'ninsiiah', 'non', 'notebook', 'notebooks', 'notes',\n",
       "       'notion', 'numpy', 'nwaka', 'object', 'objectively', 'observed',\n",
       "       'oculus', 'okay', 'okoye', 'old', 'ones', 'online', 'open',\n",
       "       'opinion', 'opinions', 'opportunities', 'opportunity', 'option',\n",
       "       'order', 'organization', 'oriented', 'pandas', 'paper', 'papers',\n",
       "       'particular', 'particularly', 'pass', 'passion', 'passionate',\n",
       "       'past', 'patent', 'path', 'paths', 'pc', 'pelcher', 'people',\n",
       "       'perfect', 'perform', 'performance', 'person', 'personal',\n",
       "       'personality', 'personalized', 'personally', 'personnel', 'peter',\n",
       "       'phd', 'photo', 'physical', 'physics', 'pieces', 'pivotal',\n",
       "       'place', 'plan', 'planning', 'platform', 'platforms', 'play',\n",
       "       'played', 'playing', 'poetry', 'point', 'points', 'portia',\n",
       "       'possibilities', 'possible', 'possibly', 'post', 'power',\n",
       "       'powerful', 'practical', 'practice', 'preparation', 'prepare',\n",
       "       'prepared', 'present', 'presentation', 'pressures', 'previous',\n",
       "       'principia', 'privilege', 'probability', 'probably', 'problem',\n",
       "       'problems', 'process', 'product', 'productmanagement', 'products',\n",
       "       'professional', 'professionals', 'professors', 'program',\n",
       "       'programming', 'progress', 'project', 'projects', 'propagation',\n",
       "       'proverb', 'provide', 'providers', 'provides', 'providing',\n",
       "       'pursue', 'pursued', 'pursuing', 'pursuit', 'putting', 'python',\n",
       "       'pytorch', 'quality', 'qualms', 'quantum', 'question', 'questions',\n",
       "       'quite', 'quizzes', 'quote', 'quotes', 'qwiklabs', 'rachel',\n",
       "       'range', 'rate', 'reach', 'read', 'reading', 'real', 'realize',\n",
       "       'realized', 'realizing', 'really', 'reason', 'receive', 'recently',\n",
       "       'recipes', 'recommend', 'regular', 'regularly', 'reilly',\n",
       "       'rejected', 'relate', 'related', 'release', 'remember', 'reminded',\n",
       "       'repo', 'repos', 'require', 'research', 'resource', 'resources',\n",
       "       'responses', 'responsibility', 'rest', 'result', 'results',\n",
       "       'resume', 'review', 'richard', 'right', 'room', 'rose', 'run',\n",
       "       'said', 'salau', 'saw', 'say', 'says', 'scale', 'schedule',\n",
       "       'scholarship', 'school', 'science', 'scientist', 'scouted',\n",
       "       'scratch', 'scripts', 'seat', 'second', 'seeing', 'seek', 'seen',\n",
       "       'self', 'senior', 'sense', 'seo', 'services', 'set', 'sets',\n",
       "       'setting', 'shall', 'share', 'sharing', 'short', 'shouldn',\n",
       "       'shoutout', 'shoutouts', 'showed', 'sign', 'signed', 'similar',\n",
       "       'simple', 'site', 'skill', 'skills', 'slowly', 'small', 'smart',\n",
       "       'smith', 'social', 'society', 'software', 'solutions', 'solve',\n",
       "       'solved', 'solving', 'somebody', 'song', 'soon', 'sophomore',\n",
       "       'source', 'space', 'speaking', 'special', 'specialization',\n",
       "       'specializations', 'specific', 'spectrum', 'spend', 'spending',\n",
       "       'spent', 'sports', 'sql', 'stage', 'stand', 'stanford', 'stanley',\n",
       "       'stars', 'start', 'started', 'starting', 'startup', 'stated',\n",
       "       'states', 'static', 'status', 'stay', 'steps', 'stop', 'stories',\n",
       "       'story', 'street', 'structures', 'struggling', 'student',\n",
       "       'students', 'studentvoices', 'studies', 'study', 'stuff',\n",
       "       'success', 'suck', 'summer', 'super', 'support', 'sure',\n",
       "       'surprised', 'survey', 'sxsw', 'table', 'taken', 'takes', 'taking',\n",
       "       'talent', 'talented', 'talk', 'talks', 'target', 'tasks', 'taught',\n",
       "       'teach', 'team', 'teams', 'tech', 'technical', 'technologies',\n",
       "       'technologist', 'technologists', 'technology', 'ted', 'tell',\n",
       "       'telling', 'tensorflow', 'terms', 'test', 'testing', 'thank',\n",
       "       'thanks', 'theranos', 'thing', 'things', 'think', 'thinking',\n",
       "       'thought', 'thoughts', 'thousand', 'thrive', 'tier', 'tim', 'time',\n",
       "       'times', 'timxtalks', 'tips', 'today', 'took', 'tool', 'tools',\n",
       "       'topic', 'topics', 'tough', 'training', 'treat', 'tried', 'truly',\n",
       "       'truth', 'try', 'trying', 'turn', 'turned', 'types', 'uchenna',\n",
       "       'udacity', 'understand', 'understanding', 'unfortunately',\n",
       "       'united', 'university', 'use', 'used', 'useful', 'users', 'using',\n",
       "       'usually', 'utilize', 'utilized', 'utilizing', 'value', 'various',\n",
       "       've', 'verified', 'version', 'viable', 'video', 'videos', 'view',\n",
       "       'virtual', 'visualization', 'visualizations', 'vm', 'vr', 'wait',\n",
       "       'wall', 'want', 'wanted', 'wasn', 'watch', 'watched', 'way',\n",
       "       'ways', 'web', 'webinar', 'website', 'week', 'went', 'wide',\n",
       "       'willing', 'willingness', 'win', 'wired', 'wisdom', 'wish', 'won',\n",
       "       'words', 'work', 'worked', 'working', 'works', 'world', 'worth',\n",
       "       'worthy', 'writing', 'wrong', 'wrote', 'wwdc', 'yann', 'year',\n",
       "       'years', 'young', 'youtube', 'zhaime'], dtype=object)"
      ]
     },
     "execution_count": 28,
     "metadata": {},
     "output_type": "execute_result"
    }
   ],
   "execution_count": 28
  },
  {
   "metadata": {
    "ExecuteTime": {
     "end_time": "2024-05-22T09:23:36.173175Z",
     "start_time": "2024-05-22T09:23:36.136859Z"
    }
   },
   "cell_type": "code",
   "source": [
    "tfidf_df = pd.DataFrame(tfidf.toarray(), columns=tfidf_vectorizer.get_feature_names_out())\n",
    "\n",
    "tfidf_df"
   ],
   "id": "1f6aabd9d70e3064",
   "outputs": [
    {
     "data": {
      "text/plain": [
       "     000   10  100   12   20  2018  2019   30       365  365daysoflearning  \\\n",
       "0    0.0  0.0  0.0  0.0  0.0   0.0   0.0  0.0  0.000000           0.000000   \n",
       "1    0.0  0.0  0.0  0.0  0.0   0.0   0.0  0.0  0.039506           0.039033   \n",
       "2    0.0  0.0  0.0  0.0  0.0   0.0   0.0  0.0  0.074987           0.074090   \n",
       "3    0.0  0.0  0.0  0.0  0.0   0.0   0.0  0.0  0.041889           0.041388   \n",
       "4    0.0  0.0  0.0  0.0  0.0   0.0   0.0  0.0  0.000000           0.000000   \n",
       "..   ...  ...  ...  ...  ...   ...   ...  ...       ...                ...   \n",
       "247  0.0  0.0  0.0  0.0  0.0   0.0   0.0  0.0  0.000000           0.000000   \n",
       "248  0.0  0.0  0.0  0.0  0.0   0.0   0.0  0.0  0.000000           0.000000   \n",
       "249  0.0  0.0  0.0  0.0  0.0   0.0   0.0  0.0  0.000000           0.000000   \n",
       "250  0.0  0.0  0.0  0.0  0.0   0.0   0.0  0.0  0.000000           0.000000   \n",
       "251  0.0  0.0  0.0  0.0  0.0   0.0   0.0  0.0  0.000000           0.000000   \n",
       "\n",
       "     ...  writing    wrong  wrote  wwdc  yann  year     years     young  \\\n",
       "0    ...      0.0  0.00000    0.0   0.0   0.0   0.0  0.000000  0.000000   \n",
       "1    ...      0.0  0.26177    0.0   0.0   0.0   0.0  0.000000  0.000000   \n",
       "2    ...      0.0  0.00000    0.0   0.0   0.0   0.0  0.000000  0.000000   \n",
       "3    ...      0.0  0.00000    0.0   0.0   0.0   0.0  0.000000  0.071877   \n",
       "4    ...      0.0  0.00000    0.0   0.0   0.0   0.0  0.000000  0.000000   \n",
       "..   ...      ...      ...    ...   ...   ...   ...       ...       ...   \n",
       "247  ...      0.0  0.00000    0.0   0.0   0.0   0.0  0.000000  0.000000   \n",
       "248  ...      0.0  0.00000    0.0   0.0   0.0   0.0  0.164011  0.000000   \n",
       "249  ...      0.0  0.00000    0.0   0.0   0.0   0.0  0.000000  0.000000   \n",
       "250  ...      0.0  0.00000    0.0   0.0   0.0   0.0  0.000000  0.000000   \n",
       "251  ...      0.0  0.00000    0.0   0.0   0.0   0.0  0.000000  0.000000   \n",
       "\n",
       "     youtube  zhaime  \n",
       "0        0.0     0.0  \n",
       "1        0.0     0.0  \n",
       "2        0.0     0.0  \n",
       "3        0.0     0.0  \n",
       "4        0.0     0.0  \n",
       "..       ...     ...  \n",
       "247      0.0     0.0  \n",
       "248      0.0     0.0  \n",
       "249      0.0     0.0  \n",
       "250      0.0     0.0  \n",
       "251      0.0     0.0  \n",
       "\n",
       "[252 rows x 1000 columns]"
      ],
      "text/html": [
       "<div>\n",
       "<style scoped>\n",
       "    .dataframe tbody tr th:only-of-type {\n",
       "        vertical-align: middle;\n",
       "    }\n",
       "\n",
       "    .dataframe tbody tr th {\n",
       "        vertical-align: top;\n",
       "    }\n",
       "\n",
       "    .dataframe thead th {\n",
       "        text-align: right;\n",
       "    }\n",
       "</style>\n",
       "<table border=\"1\" class=\"dataframe\">\n",
       "  <thead>\n",
       "    <tr style=\"text-align: right;\">\n",
       "      <th></th>\n",
       "      <th>000</th>\n",
       "      <th>10</th>\n",
       "      <th>100</th>\n",
       "      <th>12</th>\n",
       "      <th>20</th>\n",
       "      <th>2018</th>\n",
       "      <th>2019</th>\n",
       "      <th>30</th>\n",
       "      <th>365</th>\n",
       "      <th>365daysoflearning</th>\n",
       "      <th>...</th>\n",
       "      <th>writing</th>\n",
       "      <th>wrong</th>\n",
       "      <th>wrote</th>\n",
       "      <th>wwdc</th>\n",
       "      <th>yann</th>\n",
       "      <th>year</th>\n",
       "      <th>years</th>\n",
       "      <th>young</th>\n",
       "      <th>youtube</th>\n",
       "      <th>zhaime</th>\n",
       "    </tr>\n",
       "  </thead>\n",
       "  <tbody>\n",
       "    <tr>\n",
       "      <th>0</th>\n",
       "      <td>0.0</td>\n",
       "      <td>0.0</td>\n",
       "      <td>0.0</td>\n",
       "      <td>0.0</td>\n",
       "      <td>0.0</td>\n",
       "      <td>0.0</td>\n",
       "      <td>0.0</td>\n",
       "      <td>0.0</td>\n",
       "      <td>0.000000</td>\n",
       "      <td>0.000000</td>\n",
       "      <td>...</td>\n",
       "      <td>0.0</td>\n",
       "      <td>0.00000</td>\n",
       "      <td>0.0</td>\n",
       "      <td>0.0</td>\n",
       "      <td>0.0</td>\n",
       "      <td>0.0</td>\n",
       "      <td>0.000000</td>\n",
       "      <td>0.000000</td>\n",
       "      <td>0.0</td>\n",
       "      <td>0.0</td>\n",
       "    </tr>\n",
       "    <tr>\n",
       "      <th>1</th>\n",
       "      <td>0.0</td>\n",
       "      <td>0.0</td>\n",
       "      <td>0.0</td>\n",
       "      <td>0.0</td>\n",
       "      <td>0.0</td>\n",
       "      <td>0.0</td>\n",
       "      <td>0.0</td>\n",
       "      <td>0.0</td>\n",
       "      <td>0.039506</td>\n",
       "      <td>0.039033</td>\n",
       "      <td>...</td>\n",
       "      <td>0.0</td>\n",
       "      <td>0.26177</td>\n",
       "      <td>0.0</td>\n",
       "      <td>0.0</td>\n",
       "      <td>0.0</td>\n",
       "      <td>0.0</td>\n",
       "      <td>0.000000</td>\n",
       "      <td>0.000000</td>\n",
       "      <td>0.0</td>\n",
       "      <td>0.0</td>\n",
       "    </tr>\n",
       "    <tr>\n",
       "      <th>2</th>\n",
       "      <td>0.0</td>\n",
       "      <td>0.0</td>\n",
       "      <td>0.0</td>\n",
       "      <td>0.0</td>\n",
       "      <td>0.0</td>\n",
       "      <td>0.0</td>\n",
       "      <td>0.0</td>\n",
       "      <td>0.0</td>\n",
       "      <td>0.074987</td>\n",
       "      <td>0.074090</td>\n",
       "      <td>...</td>\n",
       "      <td>0.0</td>\n",
       "      <td>0.00000</td>\n",
       "      <td>0.0</td>\n",
       "      <td>0.0</td>\n",
       "      <td>0.0</td>\n",
       "      <td>0.0</td>\n",
       "      <td>0.000000</td>\n",
       "      <td>0.000000</td>\n",
       "      <td>0.0</td>\n",
       "      <td>0.0</td>\n",
       "    </tr>\n",
       "    <tr>\n",
       "      <th>3</th>\n",
       "      <td>0.0</td>\n",
       "      <td>0.0</td>\n",
       "      <td>0.0</td>\n",
       "      <td>0.0</td>\n",
       "      <td>0.0</td>\n",
       "      <td>0.0</td>\n",
       "      <td>0.0</td>\n",
       "      <td>0.0</td>\n",
       "      <td>0.041889</td>\n",
       "      <td>0.041388</td>\n",
       "      <td>...</td>\n",
       "      <td>0.0</td>\n",
       "      <td>0.00000</td>\n",
       "      <td>0.0</td>\n",
       "      <td>0.0</td>\n",
       "      <td>0.0</td>\n",
       "      <td>0.0</td>\n",
       "      <td>0.000000</td>\n",
       "      <td>0.071877</td>\n",
       "      <td>0.0</td>\n",
       "      <td>0.0</td>\n",
       "    </tr>\n",
       "    <tr>\n",
       "      <th>4</th>\n",
       "      <td>0.0</td>\n",
       "      <td>0.0</td>\n",
       "      <td>0.0</td>\n",
       "      <td>0.0</td>\n",
       "      <td>0.0</td>\n",
       "      <td>0.0</td>\n",
       "      <td>0.0</td>\n",
       "      <td>0.0</td>\n",
       "      <td>0.000000</td>\n",
       "      <td>0.000000</td>\n",
       "      <td>...</td>\n",
       "      <td>0.0</td>\n",
       "      <td>0.00000</td>\n",
       "      <td>0.0</td>\n",
       "      <td>0.0</td>\n",
       "      <td>0.0</td>\n",
       "      <td>0.0</td>\n",
       "      <td>0.000000</td>\n",
       "      <td>0.000000</td>\n",
       "      <td>0.0</td>\n",
       "      <td>0.0</td>\n",
       "    </tr>\n",
       "    <tr>\n",
       "      <th>...</th>\n",
       "      <td>...</td>\n",
       "      <td>...</td>\n",
       "      <td>...</td>\n",
       "      <td>...</td>\n",
       "      <td>...</td>\n",
       "      <td>...</td>\n",
       "      <td>...</td>\n",
       "      <td>...</td>\n",
       "      <td>...</td>\n",
       "      <td>...</td>\n",
       "      <td>...</td>\n",
       "      <td>...</td>\n",
       "      <td>...</td>\n",
       "      <td>...</td>\n",
       "      <td>...</td>\n",
       "      <td>...</td>\n",
       "      <td>...</td>\n",
       "      <td>...</td>\n",
       "      <td>...</td>\n",
       "      <td>...</td>\n",
       "      <td>...</td>\n",
       "    </tr>\n",
       "    <tr>\n",
       "      <th>247</th>\n",
       "      <td>0.0</td>\n",
       "      <td>0.0</td>\n",
       "      <td>0.0</td>\n",
       "      <td>0.0</td>\n",
       "      <td>0.0</td>\n",
       "      <td>0.0</td>\n",
       "      <td>0.0</td>\n",
       "      <td>0.0</td>\n",
       "      <td>0.000000</td>\n",
       "      <td>0.000000</td>\n",
       "      <td>...</td>\n",
       "      <td>0.0</td>\n",
       "      <td>0.00000</td>\n",
       "      <td>0.0</td>\n",
       "      <td>0.0</td>\n",
       "      <td>0.0</td>\n",
       "      <td>0.0</td>\n",
       "      <td>0.000000</td>\n",
       "      <td>0.000000</td>\n",
       "      <td>0.0</td>\n",
       "      <td>0.0</td>\n",
       "    </tr>\n",
       "    <tr>\n",
       "      <th>248</th>\n",
       "      <td>0.0</td>\n",
       "      <td>0.0</td>\n",
       "      <td>0.0</td>\n",
       "      <td>0.0</td>\n",
       "      <td>0.0</td>\n",
       "      <td>0.0</td>\n",
       "      <td>0.0</td>\n",
       "      <td>0.0</td>\n",
       "      <td>0.000000</td>\n",
       "      <td>0.000000</td>\n",
       "      <td>...</td>\n",
       "      <td>0.0</td>\n",
       "      <td>0.00000</td>\n",
       "      <td>0.0</td>\n",
       "      <td>0.0</td>\n",
       "      <td>0.0</td>\n",
       "      <td>0.0</td>\n",
       "      <td>0.164011</td>\n",
       "      <td>0.000000</td>\n",
       "      <td>0.0</td>\n",
       "      <td>0.0</td>\n",
       "    </tr>\n",
       "    <tr>\n",
       "      <th>249</th>\n",
       "      <td>0.0</td>\n",
       "      <td>0.0</td>\n",
       "      <td>0.0</td>\n",
       "      <td>0.0</td>\n",
       "      <td>0.0</td>\n",
       "      <td>0.0</td>\n",
       "      <td>0.0</td>\n",
       "      <td>0.0</td>\n",
       "      <td>0.000000</td>\n",
       "      <td>0.000000</td>\n",
       "      <td>...</td>\n",
       "      <td>0.0</td>\n",
       "      <td>0.00000</td>\n",
       "      <td>0.0</td>\n",
       "      <td>0.0</td>\n",
       "      <td>0.0</td>\n",
       "      <td>0.0</td>\n",
       "      <td>0.000000</td>\n",
       "      <td>0.000000</td>\n",
       "      <td>0.0</td>\n",
       "      <td>0.0</td>\n",
       "    </tr>\n",
       "    <tr>\n",
       "      <th>250</th>\n",
       "      <td>0.0</td>\n",
       "      <td>0.0</td>\n",
       "      <td>0.0</td>\n",
       "      <td>0.0</td>\n",
       "      <td>0.0</td>\n",
       "      <td>0.0</td>\n",
       "      <td>0.0</td>\n",
       "      <td>0.0</td>\n",
       "      <td>0.000000</td>\n",
       "      <td>0.000000</td>\n",
       "      <td>...</td>\n",
       "      <td>0.0</td>\n",
       "      <td>0.00000</td>\n",
       "      <td>0.0</td>\n",
       "      <td>0.0</td>\n",
       "      <td>0.0</td>\n",
       "      <td>0.0</td>\n",
       "      <td>0.000000</td>\n",
       "      <td>0.000000</td>\n",
       "      <td>0.0</td>\n",
       "      <td>0.0</td>\n",
       "    </tr>\n",
       "    <tr>\n",
       "      <th>251</th>\n",
       "      <td>0.0</td>\n",
       "      <td>0.0</td>\n",
       "      <td>0.0</td>\n",
       "      <td>0.0</td>\n",
       "      <td>0.0</td>\n",
       "      <td>0.0</td>\n",
       "      <td>0.0</td>\n",
       "      <td>0.0</td>\n",
       "      <td>0.000000</td>\n",
       "      <td>0.000000</td>\n",
       "      <td>...</td>\n",
       "      <td>0.0</td>\n",
       "      <td>0.00000</td>\n",
       "      <td>0.0</td>\n",
       "      <td>0.0</td>\n",
       "      <td>0.0</td>\n",
       "      <td>0.0</td>\n",
       "      <td>0.000000</td>\n",
       "      <td>0.000000</td>\n",
       "      <td>0.0</td>\n",
       "      <td>0.0</td>\n",
       "    </tr>\n",
       "  </tbody>\n",
       "</table>\n",
       "<p>252 rows × 1000 columns</p>\n",
       "</div>"
      ]
     },
     "execution_count": 29,
     "metadata": {},
     "output_type": "execute_result"
    }
   ],
   "execution_count": 29
  },
  {
   "cell_type": "markdown",
   "id": "560f281e",
   "metadata": {},
   "source": [
    "#### 5 Modélisation des données "
   ]
  },
  {
   "metadata": {},
   "cell_type": "markdown",
   "source": [
    "Voici de quoi est constitué un post linkedin : Document > Sujets > Termes\n",
    "\n",
    "On dit que on a des DOCUMENTS, qui abordent des SUJETS, qui continnent des TERMES, le point commun entre DOCUMENTS ET TERMES est alors le SUJET, donc le sujet bénéficiera d'une attention capitale de notre part, ce qui implique que la meilleure façon de modéliser une telle situation c'est d'utiliser NMF (Non-negative matrix factorization) ."
   ],
   "id": "4235d741b9577b02"
  },
  {
   "metadata": {},
   "cell_type": "markdown",
   "source": "Ici nous utilisons la modélisation dite NMF ; il s'agit d'une modélisation par Factorisation de Matrice Non-Négative (NMF) est une technique utilisée en apprentissage automatique et en traitement du langage naturel (NLP) pour réduire la dimensionnalité des données et identifier des thématiques sous-jacentes dans un corpus de documents. ",
   "id": "15fa5cc94284dd86"
  },
  {
   "metadata": {},
   "cell_type": "markdown",
   "source": [
    "Comment ?\n",
    "\n",
    "En décomposant une matrice V en deux matrices plus petites W et H telles que: V≈W×H .\n",
    "\n",
    "Où :\n",
    "\n",
    "- V est la matrice des données d'entrée (dans le cas du NLP, c'est souvent la matrice TF-IDF des documents).\n",
    "\n",
    "\n",
    "- W (DOCUMENTS x SUJETS) est une matrice des caractéristiques latentes des documents. De dimension (m x k) avec m documents et k thématiques (ou composants) et une valeur w est l'intensité ou l'importance de chaque thématique dnas un document .\n",
    "\n",
    "\n",
    "- H (SUJETS x TERMES) est une matrice des poids des caractéristiques pour chaque document. Celle-ci de dimension (k x n) où k est le nombre de thématiques (composants ou sujets) et n le nombre de termes (ou caractéristiques dans la matrices TD-IDF), une valeur h représente le poids de chaque terme dans un sujet."
   ],
   "id": "7ccd627eb711b5a6"
  },
  {
   "metadata": {},
   "cell_type": "markdown",
   "source": [
    "Caractéristiques de la NMF :\n",
    "\n",
    "-> Non-Négativité: Les valeurs dans les matrices W et H sont non négatives, ce qui signifie qu'elles ne contiennent que des valeurs positives ou nulles. Cela rend les résultats plus interprétables, car les composantes principales représentent des \"présences\" ou \"absences\" de caractéristiques, plutôt que des directions arbitraires dans l'espace de caractéristiques.\n",
    "\n",
    "-> Interprétabilité: Grâce à la non-négativité, chaque document peut être représenté comme une somme additive des thématiques identifiées, ce qui est intuitivement plus facile à comprendre."
   ],
   "id": "aac0e9dde8477e3b"
  },
  {
   "cell_type": "code",
   "id": "98579fbd",
   "metadata": {
    "ExecuteTime": {
     "end_time": "2024-05-22T09:46:08.085713Z",
     "start_time": "2024-05-22T09:46:07.962437Z"
    }
   },
   "source": [
    "n_topic = 10 # Nombre de thématiques à découvrir\n",
    "\n",
    "nmf_model = NMF(n_components=10, random_state=42)\n",
    "W = nmf_model.fit_transform(tfidf)\n",
    "H = nmf_model.components_"
   ],
   "outputs": [
    {
     "name": "stderr",
     "output_type": "stream",
     "text": [
      "/home/keke/anaconda3/lib/python3.11/site-packages/sklearn/decomposition/_nmf.py:1710: ConvergenceWarning: Maximum number of iterations 200 reached. Increase it to improve convergence.\n",
      "  warnings.warn(\n"
     ]
    }
   ],
   "execution_count": 30
  },
  {
   "metadata": {
    "ExecuteTime": {
     "end_time": "2024-05-22T09:46:22.311216Z",
     "start_time": "2024-05-22T09:46:22.306660Z"
    }
   },
   "cell_type": "code",
   "source": "W # Doc x Subject",
   "id": "55f4f25ec962605f",
   "outputs": [
    {
     "data": {
      "text/plain": [
       "array([[4.43355576e-03, 0.00000000e+00, 4.17061918e-05, ...,\n",
       "        4.11474496e-03, 7.47715462e-02, 4.83459621e-02],\n",
       "       [8.88901834e-02, 0.00000000e+00, 3.25582219e-04, ...,\n",
       "        6.14340343e-02, 3.48341097e-02, 0.00000000e+00],\n",
       "       [1.27935819e-01, 1.06318798e-02, 7.61450293e-05, ...,\n",
       "        0.00000000e+00, 4.81270246e-03, 0.00000000e+00],\n",
       "       ...,\n",
       "       [3.78191273e-03, 0.00000000e+00, 0.00000000e+00, ...,\n",
       "        0.00000000e+00, 0.00000000e+00, 1.54698174e-01],\n",
       "       [1.13253744e-01, 7.48484901e-02, 0.00000000e+00, ...,\n",
       "        0.00000000e+00, 0.00000000e+00, 0.00000000e+00],\n",
       "       [0.00000000e+00, 0.00000000e+00, 6.34060402e-01, ...,\n",
       "        0.00000000e+00, 0.00000000e+00, 0.00000000e+00]])"
      ]
     },
     "execution_count": 31,
     "metadata": {},
     "output_type": "execute_result"
    }
   ],
   "execution_count": 31
  },
  {
   "metadata": {
    "ExecuteTime": {
     "end_time": "2024-05-22T09:47:15.370645Z",
     "start_time": "2024-05-22T09:47:15.366777Z"
    }
   },
   "cell_type": "code",
   "source": "H # Subject x Terms",
   "id": "6656a99cd46b69be",
   "outputs": [
    {
     "data": {
      "text/plain": [
       "array([[1.59416180e-02, 4.89711209e-02, 0.00000000e+00, ...,\n",
       "        7.28105519e-02, 9.41100640e-02, 0.00000000e+00],\n",
       "       [0.00000000e+00, 0.00000000e+00, 0.00000000e+00, ...,\n",
       "        0.00000000e+00, 0.00000000e+00, 0.00000000e+00],\n",
       "       [1.12192011e-05, 0.00000000e+00, 0.00000000e+00, ...,\n",
       "        0.00000000e+00, 0.00000000e+00, 0.00000000e+00],\n",
       "       ...,\n",
       "       [2.32674289e-02, 3.08187205e-02, 2.78940361e-03, ...,\n",
       "        0.00000000e+00, 4.01385117e-02, 0.00000000e+00],\n",
       "       [0.00000000e+00, 0.00000000e+00, 0.00000000e+00, ...,\n",
       "        3.82408567e-02, 0.00000000e+00, 0.00000000e+00],\n",
       "       [0.00000000e+00, 1.85290904e-03, 1.92802552e-02, ...,\n",
       "        9.15913826e-02, 2.16928102e-03, 5.74876897e-02]])"
      ]
     },
     "execution_count": 32,
     "metadata": {},
     "output_type": "execute_result"
    }
   ],
   "execution_count": 32
  },
  {
   "cell_type": "code",
   "id": "4b0afb6f",
   "metadata": {
    "ExecuteTime": {
     "end_time": "2024-05-22T09:47:46.923427Z",
     "start_time": "2024-05-22T09:47:46.917334Z"
    }
   },
   "source": [
    "# Pour chaque thématique (composante de H), j'identifie les termes les plus représentatifs.\n",
    "features = tfidf_vectorizer.get_feature_names_out()\n",
    "features"
   ],
   "outputs": [
    {
     "data": {
      "text/plain": [
       "array(['000', '10', '100', '12', '20', '2018', '2019', '30', '365',\n",
       "       '365daysoflearning', 'ability', 'able', 'absolutely', 'academic',\n",
       "       'access', 'acclaim', 'achievement', 'active', 'actually', 'add',\n",
       "       'adding', 'addition', 'address', 'addresses', 'advanced',\n",
       "       'advantage', 'advice', 'africa', 'age', 'agile', 'ahead', 'ai',\n",
       "       'aid', 'alex', 'algorithm', 'algorithms', 'allow', 'allowed',\n",
       "       'allows', 'alwaysbelearning', 'amazing', 'analysis', 'andrew',\n",
       "       'answer', 'anxiety', 'anybody', 'api', 'apis', 'app', 'apple',\n",
       "       'application', 'applications', 'applied', 'apply', 'applying',\n",
       "       'appreciate', 'approach', 'apps', 'ar', 'arena', 'art', 'article',\n",
       "       'articles', 'artificial', 'artificialintelligence', 'ask', 'asked',\n",
       "       'attend', 'attention', 'attract', 'available', 'aware', 'away',\n",
       "       'awesome', 'aws', 'azure', 'background', 'bad', 'bakhirev', 'bash',\n",
       "       'basic', 'basics', 'beautiful', 'beauty', 'began', 'begin',\n",
       "       'beginning', 'believe', 'belinga', 'benefit', 'berea', 'bernard',\n",
       "       'best', 'better', 'biased', 'big', 'bigdata', 'bigquery',\n",
       "       'billionaire', 'bit', 'black', 'blood', 'blown', 'book', 'books',\n",
       "       'brain', 'brandon', 'break', 'bring', 'broken', 'brush', 'build',\n",
       "       'building', 'builds', 'built', 'business', 'busy', 'calculus',\n",
       "       'called', 'came', 'capital', 'capstone', 'care', 'career',\n",
       "       'careful', 'carl', 'carla', 'carreyrou', 'certain', 'certificate',\n",
       "       'challenge', 'challenges', 'challenging', 'chance', 'change',\n",
       "       'changed', 'changes', 'changing', 'characters', 'charles', 'check',\n",
       "       'chinenye', 'choice', 'choose', 'chukwuemeka', 'class', 'classes',\n",
       "       'close', 'cloud', 'code', 'coding', 'cognitive', 'cognitiveclass',\n",
       "       'college', 'com', 'come', 'comes', 'coming', 'comments',\n",
       "       'communicate', 'community', 'companies', 'company', 'complete',\n",
       "       'completed', 'complex', 'computer', 'computerscience', 'computing',\n",
       "       'concepts', 'conclusive', 'conference', 'consider', 'consistency',\n",
       "       'constant', 'content', 'continue', 'continued', 'continues',\n",
       "       'continuous', 'contribute', 'conversation', 'cool', 'cost',\n",
       "       'couldn', 'couple', 'course', 'coursera', 'courses', 'cover',\n",
       "       'covers', 'cowan', 'create', 'created', 'creating', 'creators',\n",
       "       'credit', 'credits', 'cs', 'culture', 'curated', 'curiosity',\n",
       "       'curious', 'currency', 'current', 'currently', 'curriculum',\n",
       "       'curve', 'daily', 'data', 'dataengineering', 'david', 'day',\n",
       "       'days', 'dear', 'decided', 'deep', 'deeplearning', 'definitely',\n",
       "       'deserve', 'design', 'develop', 'developers', 'developing',\n",
       "       'development', 'devices', 'did', 'didn', 'different',\n",
       "       'differential', 'difficult', 'directly', 'discusses', 'discussion',\n",
       "       'documentation', 'does', 'doesn', 'doing', 'don', 'dream',\n",
       "       'dreams', 'du', 'early', 'easier', 'easy', 'education',\n",
       "       'educational', 'effectively', 'elizabeth', 'emmerson',\n",
       "       'encountered', 'end', 'engage', 'engaging', 'engineer',\n",
       "       'engineering', 'enjoy', 'enjoyed', 'environment', 'especially',\n",
       "       'essential', 'esther', 'eventually', 'everybody', 'example',\n",
       "       'excel', 'excellence', 'excellent', 'excited', 'exercise',\n",
       "       'exercises', 'expensive', 'experience', 'experiences',\n",
       "       'experiment', 'experimented', 'experimenting', 'experiments',\n",
       "       'experts', 'explain', 'explaining', 'exploration', 'explore',\n",
       "       'exploring', 'express', 'extremely', 'facebook', 'fail', 'failed',\n",
       "       'familiar', 'far', 'fast', 'favorite', 'fear', 'feed', 'feedback',\n",
       "       'feel', 'feeling', 'figure', 'file', 'files', 'final', 'finally',\n",
       "       'finance', 'financial', 'finding', 'finish', 'finished', 'fish',\n",
       "       'fit', 'focus', 'folium', 'follow', 'forbes', 'forget', 'form',\n",
       "       'formal', 'forson', 'forth', 'fortunate', 'forward', 'frank',\n",
       "       'free', 'french', 'frequently', 'friend', 'fully', 'fun',\n",
       "       'functions', 'fundamentals', 'funny', 'future', 'gain', 'galaxy',\n",
       "       'gap', 'gates', 'gave', 'gaëlle', 'gcp', 'general', 'generation',\n",
       "       'genuinely', 'getting', 'ghana', 'gift', 'github', 'given',\n",
       "       'gives', 'giving', 'glad', 'goal', 'goals', 'goes', 'going',\n",
       "       'good', 'google', 'googlecloud', 'got', 'grade', 'grades',\n",
       "       'graduate', 'graduation', 'grateful', 'gre', 'great', 'greatest',\n",
       "       'greatly', 'group', 'grow', 'growing', 'growth', 'growwithgoogle',\n",
       "       'hackerrank', 'hand', 'hands', 'happen', 'happy', 'hard',\n",
       "       'hardware', 'harris', 'hashtag', 'hate', 'having', 'hbcu', 'hbo',\n",
       "       'hear', 'heard', 'heart', 'heavily', 'hello', 'help', 'helped',\n",
       "       'helpful', 'helps', 'heroes', 'high', 'highly', 'hill', 'hiring',\n",
       "       'history', 'hold', 'home', 'honest', 'honor', 'hope', 'hopefully',\n",
       "       'hoping', 'host', 'hours', 'house', 'https', 'human', 'hustle',\n",
       "       'ibm', 'idea', 'ideas', 'ides', 'images', 'imagine', 'impact',\n",
       "       'imperial', 'implement', 'implemented', 'importance', 'important',\n",
       "       'importantly', 'impressed', 'include', 'including', 'increase',\n",
       "       'incredible', 'incredibly', 'industry', 'information',\n",
       "       'initiative', 'insane', 'insights', 'inspiration', 'inspired',\n",
       "       'instead', 'instructor', 'instructors', 'integrated',\n",
       "       'intellectually', 'intelligence', 'interact', 'interested',\n",
       "       'interesting', 'interests', 'internship', 'intersection',\n",
       "       'interview', 'interviewer', 'interviewing', 'interviews',\n",
       "       'intrigued', 'introduced', 'introducing', 'introduction',\n",
       "       'intuition', 'inventory', 'isaac', 'javascript', 'job', 'john',\n",
       "       'join', 'journey', 'jupyter', 'jupyternotebooks', 'just', 'kaggle',\n",
       "       'keeps', 'kept', 'key', 'kibble', 'knew', 'know', 'knowledge',\n",
       "       'knows', 'labor', 'labs', 'landscape', 'language', 'large',\n",
       "       'later', 'lead', 'leaders', 'learn', 'learned', 'learning', 'led',\n",
       "       'lesson', 'lessons', 'let', 'letter', 'life', 'lifetime', 'like',\n",
       "       'line', 'lines', 'link', 'linkedin', 'list', 'little', 'live',\n",
       "       'lives', 'living', 'll', 'lnkd', 'long', 'longer', 'look',\n",
       "       'looking', 'lose', 'lot', 'love', 'loved', 'loves', 'low',\n",
       "       'lslacohort2019', 'ly', 'machine', 'machinelearning', 'main',\n",
       "       'major', 'make', 'makes', 'making', 'man', 'management', 'manner',\n",
       "       'marcellus', 'march', 'market', 'material', 'materials', 'math',\n",
       "       'mathematica', 'mathematical', 'mathematics', 'matplotlib',\n",
       "       'matter', 'maya', 'mean', 'means', 'meant', 'media', 'meet',\n",
       "       'michael', 'microsoft', 'mind', 'mini', 'minor', 'miss', 'missed',\n",
       "       'missing', 'mistakes', 'ml', 'mobile', 'model', 'models', 'module',\n",
       "       'modules', 'moment', 'money', 'month', 'months', 'mooc', 'moocs',\n",
       "       'moon', 'morgan', 'morning', 'motivated', 'motivation', 'moved',\n",
       "       'movie', 'moving', 'multiple', 'music', 'native', 'nb',\n",
       "       'necessary', 'need', 'needs', 'netflix', 'network', 'networking',\n",
       "       'networks', 'neural', 'neves', 'new', 'news', 'newton', 'ng',\n",
       "       'ngwenya', 'ninsiiah', 'non', 'notebook', 'notebooks', 'notes',\n",
       "       'notion', 'numpy', 'nwaka', 'object', 'objectively', 'observed',\n",
       "       'oculus', 'okay', 'okoye', 'old', 'ones', 'online', 'open',\n",
       "       'opinion', 'opinions', 'opportunities', 'opportunity', 'option',\n",
       "       'order', 'organization', 'oriented', 'pandas', 'paper', 'papers',\n",
       "       'particular', 'particularly', 'pass', 'passion', 'passionate',\n",
       "       'past', 'patent', 'path', 'paths', 'pc', 'pelcher', 'people',\n",
       "       'perfect', 'perform', 'performance', 'person', 'personal',\n",
       "       'personality', 'personalized', 'personally', 'personnel', 'peter',\n",
       "       'phd', 'photo', 'physical', 'physics', 'pieces', 'pivotal',\n",
       "       'place', 'plan', 'planning', 'platform', 'platforms', 'play',\n",
       "       'played', 'playing', 'poetry', 'point', 'points', 'portia',\n",
       "       'possibilities', 'possible', 'possibly', 'post', 'power',\n",
       "       'powerful', 'practical', 'practice', 'preparation', 'prepare',\n",
       "       'prepared', 'present', 'presentation', 'pressures', 'previous',\n",
       "       'principia', 'privilege', 'probability', 'probably', 'problem',\n",
       "       'problems', 'process', 'product', 'productmanagement', 'products',\n",
       "       'professional', 'professionals', 'professors', 'program',\n",
       "       'programming', 'progress', 'project', 'projects', 'propagation',\n",
       "       'proverb', 'provide', 'providers', 'provides', 'providing',\n",
       "       'pursue', 'pursued', 'pursuing', 'pursuit', 'putting', 'python',\n",
       "       'pytorch', 'quality', 'qualms', 'quantum', 'question', 'questions',\n",
       "       'quite', 'quizzes', 'quote', 'quotes', 'qwiklabs', 'rachel',\n",
       "       'range', 'rate', 'reach', 'read', 'reading', 'real', 'realize',\n",
       "       'realized', 'realizing', 'really', 'reason', 'receive', 'recently',\n",
       "       'recipes', 'recommend', 'regular', 'regularly', 'reilly',\n",
       "       'rejected', 'relate', 'related', 'release', 'remember', 'reminded',\n",
       "       'repo', 'repos', 'require', 'research', 'resource', 'resources',\n",
       "       'responses', 'responsibility', 'rest', 'result', 'results',\n",
       "       'resume', 'review', 'richard', 'right', 'room', 'rose', 'run',\n",
       "       'said', 'salau', 'saw', 'say', 'says', 'scale', 'schedule',\n",
       "       'scholarship', 'school', 'science', 'scientist', 'scouted',\n",
       "       'scratch', 'scripts', 'seat', 'second', 'seeing', 'seek', 'seen',\n",
       "       'self', 'senior', 'sense', 'seo', 'services', 'set', 'sets',\n",
       "       'setting', 'shall', 'share', 'sharing', 'short', 'shouldn',\n",
       "       'shoutout', 'shoutouts', 'showed', 'sign', 'signed', 'similar',\n",
       "       'simple', 'site', 'skill', 'skills', 'slowly', 'small', 'smart',\n",
       "       'smith', 'social', 'society', 'software', 'solutions', 'solve',\n",
       "       'solved', 'solving', 'somebody', 'song', 'soon', 'sophomore',\n",
       "       'source', 'space', 'speaking', 'special', 'specialization',\n",
       "       'specializations', 'specific', 'spectrum', 'spend', 'spending',\n",
       "       'spent', 'sports', 'sql', 'stage', 'stand', 'stanford', 'stanley',\n",
       "       'stars', 'start', 'started', 'starting', 'startup', 'stated',\n",
       "       'states', 'static', 'status', 'stay', 'steps', 'stop', 'stories',\n",
       "       'story', 'street', 'structures', 'struggling', 'student',\n",
       "       'students', 'studentvoices', 'studies', 'study', 'stuff',\n",
       "       'success', 'suck', 'summer', 'super', 'support', 'sure',\n",
       "       'surprised', 'survey', 'sxsw', 'table', 'taken', 'takes', 'taking',\n",
       "       'talent', 'talented', 'talk', 'talks', 'target', 'tasks', 'taught',\n",
       "       'teach', 'team', 'teams', 'tech', 'technical', 'technologies',\n",
       "       'technologist', 'technologists', 'technology', 'ted', 'tell',\n",
       "       'telling', 'tensorflow', 'terms', 'test', 'testing', 'thank',\n",
       "       'thanks', 'theranos', 'thing', 'things', 'think', 'thinking',\n",
       "       'thought', 'thoughts', 'thousand', 'thrive', 'tier', 'tim', 'time',\n",
       "       'times', 'timxtalks', 'tips', 'today', 'took', 'tool', 'tools',\n",
       "       'topic', 'topics', 'tough', 'training', 'treat', 'tried', 'truly',\n",
       "       'truth', 'try', 'trying', 'turn', 'turned', 'types', 'uchenna',\n",
       "       'udacity', 'understand', 'understanding', 'unfortunately',\n",
       "       'united', 'university', 'use', 'used', 'useful', 'users', 'using',\n",
       "       'usually', 'utilize', 'utilized', 'utilizing', 'value', 'various',\n",
       "       've', 'verified', 'version', 'viable', 'video', 'videos', 'view',\n",
       "       'virtual', 'visualization', 'visualizations', 'vm', 'vr', 'wait',\n",
       "       'wall', 'want', 'wanted', 'wasn', 'watch', 'watched', 'way',\n",
       "       'ways', 'web', 'webinar', 'website', 'week', 'went', 'wide',\n",
       "       'willing', 'willingness', 'win', 'wired', 'wisdom', 'wish', 'won',\n",
       "       'words', 'work', 'worked', 'working', 'works', 'world', 'worth',\n",
       "       'worthy', 'writing', 'wrong', 'wrote', 'wwdc', 'yann', 'year',\n",
       "       'years', 'young', 'youtube', 'zhaime'], dtype=object)"
      ]
     },
     "execution_count": 33,
     "metadata": {},
     "output_type": "execute_result"
    }
   ],
   "execution_count": 33
  },
  {
   "metadata": {
    "ExecuteTime": {
     "end_time": "2024-05-21T23:33:54.740768Z",
     "start_time": "2024-05-21T23:33:54.737392Z"
    }
   },
   "cell_type": "code",
   "source": "len(features)",
   "id": "5a091291f9b706f6",
   "outputs": [
    {
     "data": {
      "text/plain": [
       "1000"
      ]
     },
     "execution_count": 46,
     "metadata": {},
     "output_type": "execute_result"
    }
   ],
   "execution_count": 46
  },
  {
   "metadata": {
    "ExecuteTime": {
     "end_time": "2024-05-22T09:55:21.421329Z",
     "start_time": "2024-05-22T09:55:21.416905Z"
    }
   },
   "cell_type": "code",
   "source": [
    "for i, topic in enumerate(H):\n",
    "    # On sait que Topic est une ligne de H\n",
    "    top_features_indices = topic.argsort()[-10:] # après avoir trié par ordre croissant, \n",
    "    # on trouve les indices des 10 termes les plus importants pour le sujet représenté par topic (ce sont els 10 derniers!!!)\n",
    "    # car un terme est dit important lorsqu'il lorsqu'il a un poids élevé dans la matrice H pour un sujet particulier\n",
    "    top_features = [features[index] for index in top_features_indices] # On utilise alors ces indices pour extraire les termes correspondants de la liste de termes (vocabulaire).\n",
    "    print(f\"Top words for topic {i}: {top_features}\\n\")"
   ],
   "id": "3cea8dadb7dbaab4",
   "outputs": [
    {
     "name": "stdout",
     "output_type": "stream",
     "text": [
      "Top words for topic 0: ['hard', '365daysoflearning', 'really', 'interview', 'work', 'don', 'people', 'learn', 'day', 'things']\n",
      "\n",
      "Top words for topic 1: ['coursera', 'learn', 'tensorflow', 'finance', 'mathematics', 'googlecloud', 'deeplearning', 'machinelearning', 'alwaysbelearning', 'hashtag']\n",
      "\n",
      "Top words for topic 2: ['week', 'busy', 'taking', 'mini', 'pelcher', 'marcellus', 'life', 'interact', 'time', 'missing']\n",
      "\n",
      "Top words for topic 3: ['webinar', 'ai', 'preparation', 'man', 'ibm', 'coursera', 'view', 'achievement', 'acclaim', 'verified']\n",
      "\n",
      "Top words for topic 4: ['ly', 'coding', 'language', 'programming', 'jupyternotebooks', 'modules', 'lnkd', 'https', 'hashtag', 'python']\n",
      "\n",
      "Top words for topic 5: ['lnkd', 'students', 'platform', 'aws', 'course', 'https', 'gcp', 'coursera', 'google', 'cloud']\n",
      "\n",
      "Top words for topic 6: ['think', 'college', 'loves', 'students', 'machine', 'continues', 'moocs', 'courses', 'linkedin', 'learning']\n",
      "\n",
      "Top words for topic 7: ['big', 'project', 'using', 'sql', 'notebooks', 'jupyter', 'ibm', 'course', 'science', 'data']\n",
      "\n",
      "Top words for topic 8: ['ly', 'bad', 'blood', 'https', 'john', 'story', 'ai', 'read', 'reading', 'book']\n",
      "\n",
      "Top words for topic 9: ['know', 'great', 'time', 'help', 'year', 'people', 'life', 'opportunity', 'like', 'thank']\n",
      "\n"
     ]
    }
   ],
   "execution_count": 35
  },
  {
   "cell_type": "markdown",
   "id": "cf118fe8",
   "metadata": {},
   "source": [
    "#### 7. Analyse de la corrélation"
   ]
  },
  {
   "cell_type": "code",
   "id": "85d087a0",
   "metadata": {
    "ExecuteTime": {
     "end_time": "2024-05-22T09:55:24.646035Z",
     "start_time": "2024-05-22T09:55:24.643190Z"
    }
   },
   "source": "df[\"topic\"] = W.argmax(axis=1) # On récupère l'indice de la colonne (sujet/topic) avec la valeur maximale pour chaque ligne (document).",
   "outputs": [],
   "execution_count": 36
  },
  {
   "metadata": {
    "ExecuteTime": {
     "end_time": "2024-05-22T09:55:25.895841Z",
     "start_time": "2024-05-22T09:55:25.884815Z"
    }
   },
   "cell_type": "code",
   "source": "df",
   "id": "8edb8d3c6d71ffa7",
   "outputs": [
    {
     "data": {
      "text/plain": [
       "                                           profileUrl  \\\n",
       "0    https://www.linkedin.com/in/emmanuel-acheampong/   \n",
       "1    https://www.linkedin.com/in/emmanuel-acheampong/   \n",
       "2    https://www.linkedin.com/in/emmanuel-acheampong/   \n",
       "3    https://www.linkedin.com/in/emmanuel-acheampong/   \n",
       "4    https://www.linkedin.com/in/emmanuel-acheampong/   \n",
       "..                                                ...   \n",
       "247  https://www.linkedin.com/in/emmanuel-acheampong/   \n",
       "248  https://www.linkedin.com/in/emmanuel-acheampong/   \n",
       "249  https://www.linkedin.com/in/emmanuel-acheampong/   \n",
       "250  https://www.linkedin.com/in/emmanuel-acheampong/   \n",
       "251  https://www.linkedin.com/in/emmanuel-acheampong/   \n",
       "\n",
       "                                                         action  \\\n",
       "0    Emmanuel Acheampong posted in Student Learning Ambassadors   \n",
       "1                                                          Post   \n",
       "2                                                          Post   \n",
       "3                                                          Post   \n",
       "4                                                          Post   \n",
       "..                                                          ...   \n",
       "247                                                        Post   \n",
       "248                                                        Post   \n",
       "249                                                        Post   \n",
       "250                                                        Post   \n",
       "251                                                        Post   \n",
       "\n",
       "                                                                                                                                                                                                                                                                                                                                                                                                                                                                                                                                                                                                                                                                                                                                                                                                                                                                                                                                                                                                                                                                                                                                                                                                                                                                             postContent  \\\n",
       "0               hello everyone after researching and having multiple interviews with students at my school i have realized that even though a lot of college students want to improve their skills and utilize mooc platforms like linkedin learning and lynda they are not finding a support system to allow them to complete many of the courses they start to take as a result i am currently experimenting with the idea of creating a linkedin group for my school which would serve as a sort of book club but for linkedin learning courses this group would allow students to give honest feedback on courses they have taken to other students allow them to ask questions regarding particular course instructors and recommendations the community would also serve as a platform for people to discuss what they have studied in the various courses this all is in an effort to get students to not only enrol in courses but to complete them i would really appreciate questions comments or feedback from the cohort before i publish a manifesto for the group and publicize this idea here is the first iteration of the group https lnkd in esa6thu articles about low completion rates of moocs 1 https bit ly 2suuoet 2 https bit ly 2suuoet hashtag lslacohort2019   \n",
       "1    day 73 365 hashtag 365daysoflearning for day 73 in an effort to sharpen my sql mysql skills i finally completed the sql challenges on hackerrank and here are some of the things i observed 1 understanding the problem is 80 of the solution i finally realized why i got a lot of my hackerrank challenges wrong i was too hasty trying to solve the problems instead of fully understanding them most of the time my test cases didn t pass it wasn t because my syntax was wrong or i didn t know sql commands but because i was not answering the question 2 when i solve hackerrank challenges for fun and not for interview preparations or to put on my resume the challenges become really interesting without a time limit i was able to think critically and approach the problems from various angles get them wrong keep trying different approaches until they got solved 3 sql queries have a lot to do with intuition instead of memorizing the definitions of the various joins and special commands i realized that the more i practised the more i got a sense of what to do when i encountered more difficult problems in a sense practice makes perfect my hackerrank profile https bit ly 2uwrhve hackerrank sql challenges https bit ly 2ssb7dc check in tim   \n",
       "2                                                                                                                                                                                                                                                                                                                                                                                                                                                                                                day 72 365 hashtag 365daysoflearning i have been travelling for most of today so i didn t get a chance to follow my planned learning schedule as usual however i believe you can learn through passive mediums like music as well while travelling i encountered the song pioneer by the band perry and i have been playing it non stop because of how touching the lyrics are to me here are some of my favourite lyrics from it 1 be careful of the careful souls who doubt you along the way 2 pioneer your work is hard but the future of us all rests on the shoulders of your heart 3 i won t rest where arms embrace me 4 i will love when people hate me 5 i won t hush no you can t make me 6 send the dark but it won t break me song https bit ly 2vpyddz check in tim salau   \n",
       "3                                                                                                                                                                                                                                                                                                                                                                                                                                                                                                                                                                                      day 71 365 hashtag 365daysoflearning as a person who would like to hopefully own a patent one day i took the time to read over what it takes to be a patent holder the legalities rattled me a little there was a lot of information which made me almost second guess myself but at least a young man can dream these are some of the resources i found useful 1 uspto patent faqs https lnkd in epdnpwz 2 how to file a patent in 8 easy steps https bit ly 2tjq9d2 3 patent law in the united states https bit ly 2sopy2c 4 u s patent act 35 uscs sects 1 376 https bit ly 2ersd7w 5 don t file that patent yet file a provisional patent application first https bit ly 2upg5f4 check in tim   \n",
       "4                                                                                                                                                  we re living in a generation where we cannot take opportunties for granted _ you either create and breed positivity or you don t you re either elevating others or you re not you re either listening to see what you can give or shutting your ears and living in your privilege it s not a matter of positivity or prosperity preaching focus your attention on possibility rather than problem solving peter block community the structure of belonging people lead because they want to create and unlock possibilities thinking of the world as a set of problems to be solved only perpetuates a cycle of temporary fixes and patchwork solves leaders lead to bring people together to unlock possibilities with their gifts communities or complex adaptive coalitions as thomas friedman poses thrive when we expose people to opportunities that leverage their gifts and hone in on what s possible that s a different type of mindset although we are living in complex times you have to make clear and articulated decisions on what you represent who you are and why you lead hashtag timxtalks hashtag studentvoices   \n",
       "..                                                                                                                                                                                                                                                                                                                                                                                                                                                                                                                                                                                                                                                                                                                                                                                                                                                                                                                                                                                                                                                                                                                                                                                                                                                                                   ...   \n",
       "247                                                                                                                                                                                                                                                                                                                                                                                                                                                                                                                                                                                                                                                                                                                                                                                                                                                                                                                                                                                                                                                                                                                                                                                                                                                             hashtag alwaysbelearning   \n",
       "248                                                                                                                                                                                                                                                                                                                                                                                                                                                                                                                                                                                                                                                                                                                                                                                                                                                                                                       i have been dabbling with virtual machines using compute engine on google cloud platform for about 2 years now without fully utilizing all the other amazing services gcp provides after this course i hope to experiment with all the other services on gcp like app engine bigquery dataproc cloud sql machine learning engine and some of the apis hashtag alwaysbelearning   \n",
       "249                                                                                                                                                                                                                                                                                                                                                                                                                                                                                                                                                                                                                                                                                                                                                                                                                                                                                                                                                                                                                                                                                                                                                              these inspiring stories on my linkedin feed just keep me motivated thanks for sharing breonna july more success to you    \n",
       "250                                                                                                                                                                                                                                                                                                                                                                                                                                                                                                                                                                                                                                                                                                                                                                                                                                                                                                                                                                                                                                                                                                                         never mind what others do do better than yourself beat your own record from day to day and you are a success william j h boetcker hashtag motivationalquotes   \n",
       "251                                                                                                                                                                                                                                                                                                                                                                                                                                                                                                                                                                                                                                                                                                                                                                                                                                                                                                                                                                                                                                                                                                                                                                                                                                                                              missing   \n",
       "\n",
       "     likeCount  commentCount postDate                 timestamp  \\\n",
       "0            0             0      15h  2019-03-09T15:57:51.879Z   \n",
       "1            8             2      15h  2019-03-09T15:57:51.879Z   \n",
       "2            1             1       1d  2019-03-09T15:57:51.879Z   \n",
       "3            7             0       2d  2019-03-09T15:57:51.879Z   \n",
       "4            5             1       2d  2019-03-09T15:57:51.880Z   \n",
       "..         ...           ...      ...                       ...   \n",
       "247          4             0     10mo  2019-03-09T15:57:51.903Z   \n",
       "248         41             6     10mo  2019-03-09T15:57:51.903Z   \n",
       "249         11             0     10mo  2019-03-09T15:57:51.904Z   \n",
       "250         10             1     10mo  2019-03-09T15:57:51.904Z   \n",
       "251          2             0     10mo  2019-03-09T15:57:51.904Z   \n",
       "\n",
       "                                                                      postUrl  \\\n",
       "0                                                                         NaN   \n",
       "1    https://www.linkedin.com/feed/update/urn:li:activity:6509936031268171776   \n",
       "2    https://www.linkedin.com/feed/update/urn:li:activity:6509628215001169920   \n",
       "3    https://www.linkedin.com/feed/update/urn:li:activity:6509212733852966912   \n",
       "4    https://www.linkedin.com/feed/update/urn:li:activity:6509209332645715968   \n",
       "..                                                                        ...   \n",
       "247  https://www.linkedin.com/feed/update/urn:li:activity:6405714815209345024   \n",
       "248  https://www.linkedin.com/feed/update/urn:li:activity:6404664170737999872   \n",
       "249  https://www.linkedin.com/feed/update/urn:li:activity:6402887638101164032   \n",
       "250  https://www.linkedin.com/feed/update/urn:li:activity:6402883927576584192   \n",
       "251  https://www.linkedin.com/feed/update/urn:li:activity:6402859436603506688   \n",
       "\n",
       "     topic  \n",
       "0        6  \n",
       "1        0  \n",
       "2        0  \n",
       "3        8  \n",
       "4        9  \n",
       "..     ...  \n",
       "247      1  \n",
       "248      5  \n",
       "249      9  \n",
       "250      0  \n",
       "251      2  \n",
       "\n",
       "[252 rows x 9 columns]"
      ],
      "text/html": [
       "<div>\n",
       "<style scoped>\n",
       "    .dataframe tbody tr th:only-of-type {\n",
       "        vertical-align: middle;\n",
       "    }\n",
       "\n",
       "    .dataframe tbody tr th {\n",
       "        vertical-align: top;\n",
       "    }\n",
       "\n",
       "    .dataframe thead th {\n",
       "        text-align: right;\n",
       "    }\n",
       "</style>\n",
       "<table border=\"1\" class=\"dataframe\">\n",
       "  <thead>\n",
       "    <tr style=\"text-align: right;\">\n",
       "      <th></th>\n",
       "      <th>profileUrl</th>\n",
       "      <th>action</th>\n",
       "      <th>postContent</th>\n",
       "      <th>likeCount</th>\n",
       "      <th>commentCount</th>\n",
       "      <th>postDate</th>\n",
       "      <th>timestamp</th>\n",
       "      <th>postUrl</th>\n",
       "      <th>topic</th>\n",
       "    </tr>\n",
       "  </thead>\n",
       "  <tbody>\n",
       "    <tr>\n",
       "      <th>0</th>\n",
       "      <td>https://www.linkedin.com/in/emmanuel-acheampong/</td>\n",
       "      <td>Emmanuel Acheampong posted in Student Learning Ambassadors</td>\n",
       "      <td>hello everyone after researching and having multiple interviews with students at my school i have realized that even though a lot of college students want to improve their skills and utilize mooc platforms like linkedin learning and lynda they are not finding a support system to allow them to complete many of the courses they start to take as a result i am currently experimenting with the idea of creating a linkedin group for my school which would serve as a sort of book club but for linkedin learning courses this group would allow students to give honest feedback on courses they have taken to other students allow them to ask questions regarding particular course instructors and recommendations the community would also serve as a platform for people to discuss what they have studied in the various courses this all is in an effort to get students to not only enrol in courses but to complete them i would really appreciate questions comments or feedback from the cohort before i publish a manifesto for the group and publicize this idea here is the first iteration of the group https lnkd in esa6thu articles about low completion rates of moocs 1 https bit ly 2suuoet 2 https bit ly 2suuoet hashtag lslacohort2019</td>\n",
       "      <td>0</td>\n",
       "      <td>0</td>\n",
       "      <td>15h</td>\n",
       "      <td>2019-03-09T15:57:51.879Z</td>\n",
       "      <td>NaN</td>\n",
       "      <td>6</td>\n",
       "    </tr>\n",
       "    <tr>\n",
       "      <th>1</th>\n",
       "      <td>https://www.linkedin.com/in/emmanuel-acheampong/</td>\n",
       "      <td>Post</td>\n",
       "      <td>day 73 365 hashtag 365daysoflearning for day 73 in an effort to sharpen my sql mysql skills i finally completed the sql challenges on hackerrank and here are some of the things i observed 1 understanding the problem is 80 of the solution i finally realized why i got a lot of my hackerrank challenges wrong i was too hasty trying to solve the problems instead of fully understanding them most of the time my test cases didn t pass it wasn t because my syntax was wrong or i didn t know sql commands but because i was not answering the question 2 when i solve hackerrank challenges for fun and not for interview preparations or to put on my resume the challenges become really interesting without a time limit i was able to think critically and approach the problems from various angles get them wrong keep trying different approaches until they got solved 3 sql queries have a lot to do with intuition instead of memorizing the definitions of the various joins and special commands i realized that the more i practised the more i got a sense of what to do when i encountered more difficult problems in a sense practice makes perfect my hackerrank profile https bit ly 2uwrhve hackerrank sql challenges https bit ly 2ssb7dc check in tim</td>\n",
       "      <td>8</td>\n",
       "      <td>2</td>\n",
       "      <td>15h</td>\n",
       "      <td>2019-03-09T15:57:51.879Z</td>\n",
       "      <td>https://www.linkedin.com/feed/update/urn:li:activity:6509936031268171776</td>\n",
       "      <td>0</td>\n",
       "    </tr>\n",
       "    <tr>\n",
       "      <th>2</th>\n",
       "      <td>https://www.linkedin.com/in/emmanuel-acheampong/</td>\n",
       "      <td>Post</td>\n",
       "      <td>day 72 365 hashtag 365daysoflearning i have been travelling for most of today so i didn t get a chance to follow my planned learning schedule as usual however i believe you can learn through passive mediums like music as well while travelling i encountered the song pioneer by the band perry and i have been playing it non stop because of how touching the lyrics are to me here are some of my favourite lyrics from it 1 be careful of the careful souls who doubt you along the way 2 pioneer your work is hard but the future of us all rests on the shoulders of your heart 3 i won t rest where arms embrace me 4 i will love when people hate me 5 i won t hush no you can t make me 6 send the dark but it won t break me song https bit ly 2vpyddz check in tim salau</td>\n",
       "      <td>1</td>\n",
       "      <td>1</td>\n",
       "      <td>1d</td>\n",
       "      <td>2019-03-09T15:57:51.879Z</td>\n",
       "      <td>https://www.linkedin.com/feed/update/urn:li:activity:6509628215001169920</td>\n",
       "      <td>0</td>\n",
       "    </tr>\n",
       "    <tr>\n",
       "      <th>3</th>\n",
       "      <td>https://www.linkedin.com/in/emmanuel-acheampong/</td>\n",
       "      <td>Post</td>\n",
       "      <td>day 71 365 hashtag 365daysoflearning as a person who would like to hopefully own a patent one day i took the time to read over what it takes to be a patent holder the legalities rattled me a little there was a lot of information which made me almost second guess myself but at least a young man can dream these are some of the resources i found useful 1 uspto patent faqs https lnkd in epdnpwz 2 how to file a patent in 8 easy steps https bit ly 2tjq9d2 3 patent law in the united states https bit ly 2sopy2c 4 u s patent act 35 uscs sects 1 376 https bit ly 2ersd7w 5 don t file that patent yet file a provisional patent application first https bit ly 2upg5f4 check in tim</td>\n",
       "      <td>7</td>\n",
       "      <td>0</td>\n",
       "      <td>2d</td>\n",
       "      <td>2019-03-09T15:57:51.879Z</td>\n",
       "      <td>https://www.linkedin.com/feed/update/urn:li:activity:6509212733852966912</td>\n",
       "      <td>8</td>\n",
       "    </tr>\n",
       "    <tr>\n",
       "      <th>4</th>\n",
       "      <td>https://www.linkedin.com/in/emmanuel-acheampong/</td>\n",
       "      <td>Post</td>\n",
       "      <td>we re living in a generation where we cannot take opportunties for granted _ you either create and breed positivity or you don t you re either elevating others or you re not you re either listening to see what you can give or shutting your ears and living in your privilege it s not a matter of positivity or prosperity preaching focus your attention on possibility rather than problem solving peter block community the structure of belonging people lead because they want to create and unlock possibilities thinking of the world as a set of problems to be solved only perpetuates a cycle of temporary fixes and patchwork solves leaders lead to bring people together to unlock possibilities with their gifts communities or complex adaptive coalitions as thomas friedman poses thrive when we expose people to opportunities that leverage their gifts and hone in on what s possible that s a different type of mindset although we are living in complex times you have to make clear and articulated decisions on what you represent who you are and why you lead hashtag timxtalks hashtag studentvoices</td>\n",
       "      <td>5</td>\n",
       "      <td>1</td>\n",
       "      <td>2d</td>\n",
       "      <td>2019-03-09T15:57:51.880Z</td>\n",
       "      <td>https://www.linkedin.com/feed/update/urn:li:activity:6509209332645715968</td>\n",
       "      <td>9</td>\n",
       "    </tr>\n",
       "    <tr>\n",
       "      <th>...</th>\n",
       "      <td>...</td>\n",
       "      <td>...</td>\n",
       "      <td>...</td>\n",
       "      <td>...</td>\n",
       "      <td>...</td>\n",
       "      <td>...</td>\n",
       "      <td>...</td>\n",
       "      <td>...</td>\n",
       "      <td>...</td>\n",
       "    </tr>\n",
       "    <tr>\n",
       "      <th>247</th>\n",
       "      <td>https://www.linkedin.com/in/emmanuel-acheampong/</td>\n",
       "      <td>Post</td>\n",
       "      <td>hashtag alwaysbelearning</td>\n",
       "      <td>4</td>\n",
       "      <td>0</td>\n",
       "      <td>10mo</td>\n",
       "      <td>2019-03-09T15:57:51.903Z</td>\n",
       "      <td>https://www.linkedin.com/feed/update/urn:li:activity:6405714815209345024</td>\n",
       "      <td>1</td>\n",
       "    </tr>\n",
       "    <tr>\n",
       "      <th>248</th>\n",
       "      <td>https://www.linkedin.com/in/emmanuel-acheampong/</td>\n",
       "      <td>Post</td>\n",
       "      <td>i have been dabbling with virtual machines using compute engine on google cloud platform for about 2 years now without fully utilizing all the other amazing services gcp provides after this course i hope to experiment with all the other services on gcp like app engine bigquery dataproc cloud sql machine learning engine and some of the apis hashtag alwaysbelearning</td>\n",
       "      <td>41</td>\n",
       "      <td>6</td>\n",
       "      <td>10mo</td>\n",
       "      <td>2019-03-09T15:57:51.903Z</td>\n",
       "      <td>https://www.linkedin.com/feed/update/urn:li:activity:6404664170737999872</td>\n",
       "      <td>5</td>\n",
       "    </tr>\n",
       "    <tr>\n",
       "      <th>249</th>\n",
       "      <td>https://www.linkedin.com/in/emmanuel-acheampong/</td>\n",
       "      <td>Post</td>\n",
       "      <td>these inspiring stories on my linkedin feed just keep me motivated thanks for sharing breonna july more success to you</td>\n",
       "      <td>11</td>\n",
       "      <td>0</td>\n",
       "      <td>10mo</td>\n",
       "      <td>2019-03-09T15:57:51.904Z</td>\n",
       "      <td>https://www.linkedin.com/feed/update/urn:li:activity:6402887638101164032</td>\n",
       "      <td>9</td>\n",
       "    </tr>\n",
       "    <tr>\n",
       "      <th>250</th>\n",
       "      <td>https://www.linkedin.com/in/emmanuel-acheampong/</td>\n",
       "      <td>Post</td>\n",
       "      <td>never mind what others do do better than yourself beat your own record from day to day and you are a success william j h boetcker hashtag motivationalquotes</td>\n",
       "      <td>10</td>\n",
       "      <td>1</td>\n",
       "      <td>10mo</td>\n",
       "      <td>2019-03-09T15:57:51.904Z</td>\n",
       "      <td>https://www.linkedin.com/feed/update/urn:li:activity:6402883927576584192</td>\n",
       "      <td>0</td>\n",
       "    </tr>\n",
       "    <tr>\n",
       "      <th>251</th>\n",
       "      <td>https://www.linkedin.com/in/emmanuel-acheampong/</td>\n",
       "      <td>Post</td>\n",
       "      <td>missing</td>\n",
       "      <td>2</td>\n",
       "      <td>0</td>\n",
       "      <td>10mo</td>\n",
       "      <td>2019-03-09T15:57:51.904Z</td>\n",
       "      <td>https://www.linkedin.com/feed/update/urn:li:activity:6402859436603506688</td>\n",
       "      <td>2</td>\n",
       "    </tr>\n",
       "  </tbody>\n",
       "</table>\n",
       "<p>252 rows × 9 columns</p>\n",
       "</div>"
      ]
     },
     "execution_count": 37,
     "metadata": {},
     "output_type": "execute_result"
    }
   ],
   "execution_count": 37
  },
  {
   "metadata": {
    "ExecuteTime": {
     "end_time": "2024-05-21T23:48:16.813240Z",
     "start_time": "2024-05-21T23:48:16.807279Z"
    }
   },
   "cell_type": "code",
   "source": "df.topic",
   "id": "9221d922cdfe532e",
   "outputs": [
    {
     "data": {
      "text/plain": [
       "0      6\n",
       "1      0\n",
       "2      0\n",
       "3      8\n",
       "4      9\n",
       "      ..\n",
       "247    1\n",
       "248    5\n",
       "249    9\n",
       "250    0\n",
       "251    2\n",
       "Name: topic, Length: 252, dtype: int64"
      ]
     },
     "execution_count": 51,
     "metadata": {},
     "output_type": "execute_result"
    }
   ],
   "execution_count": 51
  },
  {
   "metadata": {},
   "cell_type": "markdown",
   "source": "On dit alors que pour le document 0, le sujet 6 est dominant (le plus intéressant/pertinent/le plus fortement représenté), etc !!",
   "id": "8f610dee688a8bbb"
  },
  {
   "cell_type": "code",
   "id": "46d81fd1",
   "metadata": {
    "ExecuteTime": {
     "end_time": "2024-05-22T09:56:45.246092Z",
     "start_time": "2024-05-22T09:56:45.241926Z"
    }
   },
   "source": [
    "# On évalue l'engagement moyen pour chaque sujet :\n",
    "# en regroupe les documents par le sujet dominant identifié dans la colonne topic\n",
    "# et, pour chaque groupe de sujet, on calcule la moyenne des likeCount et commentCount\n",
    "grouped_data = df.groupby('topic').agg({'likeCount':'mean', 'commentCount':'mean'})"
   ],
   "outputs": [],
   "execution_count": 38
  },
  {
   "metadata": {
    "ExecuteTime": {
     "end_time": "2024-05-22T09:56:51.526959Z",
     "start_time": "2024-05-22T09:56:51.519673Z"
    }
   },
   "cell_type": "code",
   "source": [
    "# On obtient un nouveau DataFrame où chaque ligne représente un sujet et les colonnes contiennent les moyennes des likes et des commentaires \n",
    "# pour les documents de ce sujet.\n",
    "grouped_data"
   ],
   "id": "a2f476f8574f5ff2",
   "outputs": [
    {
     "data": {
      "text/plain": [
       "       likeCount  commentCount\n",
       "topic                         \n",
       "0      25.113636      2.022727\n",
       "1      16.709677      1.258065\n",
       "2      13.333333      0.833333\n",
       "3      16.333333      1.000000\n",
       "4      70.789474      2.105263\n",
       "5      25.285714      2.928571\n",
       "6      50.035714      5.285714\n",
       "7      35.714286      3.428571\n",
       "8      21.800000      2.350000\n",
       "9      38.755102      4.061224"
      ],
      "text/html": [
       "<div>\n",
       "<style scoped>\n",
       "    .dataframe tbody tr th:only-of-type {\n",
       "        vertical-align: middle;\n",
       "    }\n",
       "\n",
       "    .dataframe tbody tr th {\n",
       "        vertical-align: top;\n",
       "    }\n",
       "\n",
       "    .dataframe thead th {\n",
       "        text-align: right;\n",
       "    }\n",
       "</style>\n",
       "<table border=\"1\" class=\"dataframe\">\n",
       "  <thead>\n",
       "    <tr style=\"text-align: right;\">\n",
       "      <th></th>\n",
       "      <th>likeCount</th>\n",
       "      <th>commentCount</th>\n",
       "    </tr>\n",
       "    <tr>\n",
       "      <th>topic</th>\n",
       "      <th></th>\n",
       "      <th></th>\n",
       "    </tr>\n",
       "  </thead>\n",
       "  <tbody>\n",
       "    <tr>\n",
       "      <th>0</th>\n",
       "      <td>25.113636</td>\n",
       "      <td>2.022727</td>\n",
       "    </tr>\n",
       "    <tr>\n",
       "      <th>1</th>\n",
       "      <td>16.709677</td>\n",
       "      <td>1.258065</td>\n",
       "    </tr>\n",
       "    <tr>\n",
       "      <th>2</th>\n",
       "      <td>13.333333</td>\n",
       "      <td>0.833333</td>\n",
       "    </tr>\n",
       "    <tr>\n",
       "      <th>3</th>\n",
       "      <td>16.333333</td>\n",
       "      <td>1.000000</td>\n",
       "    </tr>\n",
       "    <tr>\n",
       "      <th>4</th>\n",
       "      <td>70.789474</td>\n",
       "      <td>2.105263</td>\n",
       "    </tr>\n",
       "    <tr>\n",
       "      <th>5</th>\n",
       "      <td>25.285714</td>\n",
       "      <td>2.928571</td>\n",
       "    </tr>\n",
       "    <tr>\n",
       "      <th>6</th>\n",
       "      <td>50.035714</td>\n",
       "      <td>5.285714</td>\n",
       "    </tr>\n",
       "    <tr>\n",
       "      <th>7</th>\n",
       "      <td>35.714286</td>\n",
       "      <td>3.428571</td>\n",
       "    </tr>\n",
       "    <tr>\n",
       "      <th>8</th>\n",
       "      <td>21.800000</td>\n",
       "      <td>2.350000</td>\n",
       "    </tr>\n",
       "    <tr>\n",
       "      <th>9</th>\n",
       "      <td>38.755102</td>\n",
       "      <td>4.061224</td>\n",
       "    </tr>\n",
       "  </tbody>\n",
       "</table>\n",
       "</div>"
      ]
     },
     "execution_count": 39,
     "metadata": {},
     "output_type": "execute_result"
    }
   ],
   "execution_count": 39
  },
  {
   "metadata": {},
   "cell_type": "markdown",
   "source": "Donc on obtient les moyennes des likes et des commentaires pour chaque sujet, ce qui permet de voir quels sujets sont les plus engageants en moyenne.",
   "id": "b88c6a2f806c4a9d"
  },
  {
   "cell_type": "code",
   "id": "f9cab64e",
   "metadata": {
    "ExecuteTime": {
     "end_time": "2024-05-22T09:58:10.142100Z",
     "start_time": "2024-05-22T09:58:10.138953Z"
    }
   },
   "source": "correlation_matrix = grouped_data.corr()",
   "outputs": [],
   "execution_count": 40
  },
  {
   "cell_type": "code",
   "id": "07eccd47",
   "metadata": {
    "ExecuteTime": {
     "end_time": "2024-05-22T09:58:11.404709Z",
     "start_time": "2024-05-22T09:58:11.400476Z"
    }
   },
   "source": [
    "print(correlation_matrix)"
   ],
   "outputs": [
    {
     "name": "stdout",
     "output_type": "stream",
     "text": [
      "              likeCount  commentCount\n",
      "likeCount      1.000000      0.541401\n",
      "commentCount   0.541401      1.000000\n"
     ]
    }
   ],
   "execution_count": 41
  },
  {
   "metadata": {},
   "cell_type": "markdown",
   "source": [
    "On examine comment les moyennes des likes et des commentaires sont corrélées, \n",
    "ce qui peut indiquer si les sujets qui reçoivent plus de likes ont aussi tendance à recevoir plus de commentaires, et vice versa."
   ],
   "id": "4959cb377aaba084"
  },
  {
   "metadata": {},
   "cell_type": "markdown",
   "source": [
    "On peut alors conclure ce qui suit :\n",
    "\n",
    "-> Il s'agit d'une valeur de corrélation positive modérée :\n",
    "    \n",
    "    Corrélation Positive : Une valeur positive signifie que, en général, à mesure que le nombre de likes augmente pour un sujet donné, le nombre de commentaires tend également à augmenter.\n",
    "\n",
    "-> Magnitude de la Corrélation : La valeur 0.541401 n'est pas proche de 1, donc la corrélation n'est pas très forte (n'est pas parfaite), mais elle peut indiquer une tendance."
   ],
   "id": "760807a546d2fe11"
  },
  {
   "metadata": {
    "ExecuteTime": {
     "end_time": "2024-05-21T23:58:57.129675Z",
     "start_time": "2024-05-21T23:58:56.969579Z"
    }
   },
   "cell_type": "code",
   "source": [
    "plt.figure(figsize=(8, 6))\n",
    "sns.heatmap(correlation_matrix, annot=True, center=0)\n",
    "plt.title('Corrélations entre les moyennes des likes et des commentaires')\n",
    "plt.show()"
   ],
   "id": "32b2c32206d6d449",
   "outputs": [
    {
     "data": {
      "text/plain": [
       "<Figure size 800x600 with 2 Axes>"
      ],
      "image/png": "[encoded data removed]"
     },
     "metadata": {},
     "output_type": "display_data"
    }
   ],
   "execution_count": 61
  },
  {
   "cell_type": "markdown",
   "id": "83147dc4",
   "metadata": {},
   "source": [
    "#### 8. Visualisation "
   ]
  },
  {
   "cell_type": "code",
   "id": "acaf0691",
   "metadata": {
    "ExecuteTime": {
     "end_time": "2024-05-22T10:08:06.539312Z",
     "start_time": "2024-05-22T10:08:06.536576Z"
    }
   },
   "source": [
    "import matplotlib.pyplot as plt\n",
    "import seaborn as sns"
   ],
   "outputs": [],
   "execution_count": 42
  },
  {
   "cell_type": "code",
   "id": "f400f161",
   "metadata": {
    "ExecuteTime": {
     "end_time": "2024-05-22T10:08:07.637201Z",
     "start_time": "2024-05-22T10:08:06.994156Z"
    }
   },
   "source": [
    "fig, ax = plt.subplots(figsize=(10, 6))\n",
    "average_like = df.groupby('topic')['likeCount'].mean()\n",
    "sns.barplot(x=np.arange(10), y=average_like, ax=ax)\n",
    "\n",
    "ax.set_title(\"Average Like per Topic\")\n",
    "ax.set_xlabel('Topic')\n",
    "ax.set_ylabel('Average Like')\n",
    "\n",
    "plt.show()"
   ],
   "outputs": [
    {
     "data": {
      "text/plain": [
       "<Figure size 1000x600 with 1 Axes>"
      ],
      "image/png": "[encoded data removed]"
     },
     "metadata": {},
     "output_type": "display_data"
    }
   ],
   "execution_count": 43
  },
  {
   "cell_type": "code",
   "id": "df08c0a6",
   "metadata": {
    "ExecuteTime": {
     "end_time": "2024-05-22T10:16:48.634693Z",
     "start_time": "2024-05-22T10:16:48.391616Z"
    }
   },
   "source": [
    "fig, ax = plt.subplots(figsize=(10, 6))\n",
    "average_like = df.groupby('topic')['commentCount'].mean()\n",
    "sns.barplot(x=np.arange(10), y=average_like, ax=ax)\n",
    "\n",
    "ax.set_title(\"Average Comment per Topic\")\n",
    "ax.set_xlabel('Topic')\n",
    "ax.set_ylabel('Average Comment')\n",
    "\n",
    "plt.show()"
   ],
   "outputs": [
    {
     "data": {
      "text/plain": [
       "<Figure size 1000x600 with 1 Axes>"
      ],
      "image/png": "[encoded data removed]"
     },
     "metadata": {},
     "output_type": "display_data"
    }
   ],
   "execution_count": 45
  },
  {
   "metadata": {},
   "cell_type": "markdown",
   "source": [
    "# Travail Pratique : YOUTUBE FRANCE (YF)\n",
    "\n",
    "\n",
    "### NOTEZ BIEN : à partir d'ici, tout est lecture, si vous savez lire, et comprendre ce que vous lisez (même les documentations officielles ou technique des librairies) alors vous vous garantissez au moins 40% de votre résussite.\n"
   ],
   "id": "8c7ec666133291be"
  },
  {
   "metadata": {},
   "cell_type": "markdown",
   "source": [
    "#### Bienvenue chez YF!!!!! \n",
    "\n",
    "\n",
    "Le but de ce travail est de vous faire comprendre que l'amélioration de l'Image de marque personnelle est souvent une affaire de tous et donc peut se traiter selon le contexte dans le quel on se retrouve.\n",
    "\n",
    "\n",
    "vous êtes Data Scientist, et ici on veut que vous puissiez aider 2 grandes icones de la musique française à se faire une idée sur l'offre qu'elles proposent dans leur registre musical respectif.\n",
    "\n",
    "Vous n'êtes pas seul et avez n (un ou deux) colllègues avec vous.\n",
    "\n",
    "STEP 1 ::: La tâche n'étant pas simple, vous allez choisir une seule rubrique sur 8 :\n",
    "\n",
    "- Soul : Ben l'Oncle Soul, Camille, Imany;\n",
    "- R&B : Dadju, Aya Nakamura, Slimane (/Tayc);\n",
    "- Pop : Angèle, Vianney, Clara Luciani;\n",
    "- Rap : Booba, PNL, SCH (/Ninho/youssoupha);\n",
    "- Zouk : Kassav, Jacob Desvarieux, Jean-Michel Rotin (Fanny j);\n",
    "- Rock : Indochine, Téléphone, Noir Désir;\n",
    "- Electro : Daft Punk, David Guetta, Justice;\n",
    "- Reggae : Tiken Jah Fakoly, Dub Inc, Naâman.\n",
    "\n",
    "STEP 2  :::  Nous avons désigné des artists au hasard, une fois la rubrique séléctionné, voici ce que vous devez faire :\n",
    "\n",
    "- Pour chaque artist, et pour une même année, choisissez une chanson (par exemple un hit d'été 2012), vous aurez donc 2 hits (pas moins, pas plus);\n",
    "- Pour chaque hit constituez votre dataset en (Contenu,[comments],like);\n",
    "- le contenu représente les paroles de la chanson , que vous devez télécharger, exemple : lyrics de Matt Pokora ;\n",
    "- les comments représentent une liste de max 100 commentaires (si pas les top commentaires).\n",
    "- les like représente les like du post\n",
    "\n",
    "STEP 3 ::: Vous allez ensuite :\n",
    "\n",
    "- Faire de l'analyse de concurrence (comparer les n hits), vous pourriez par exemple découvrir que l'un est plus technique que l'autre, etc ;\n",
    "- Faire de l'analyse des appréciations , vous pourriez par exemple dire que PETROUCHKA de SOSO MANES n'est pas un flop ;\n",
    "- Mettre en exergue les thématiques , les sujets, les avis qui sont les plus abordés ou, qui reviennent le plus en commentaire et établir les correlations avec les lyrics;\n",
    "- Vous allez réaliser des visualisations, par exemple en tenant compte du temps (ligne de temps, courbes, etc.) ;\n",
    "- Enfin, vous ferai du conseil, vous allez rédiger un rapport où vous mettrez en lumière les points (analyses) précédents et, où on attendra de vous vos conclusions et recommandations .\n",
    "\n",
    "\n",
    "L'exercice n'est pas simple, du fait que, une chanson sans parole possède sa particularité, une chanson avec parole mais qui n'a pas trop de sens ou de profondeur peut aussi avoir un feedback différent qui sera par exemple basé sur le ressenti du public, une chanson avec des paroles structurées engendrera des commentaires qui resterons objectif et axé sur les textes.\n",
    "\n",
    "Ce n'est donc pas un exercice simple, il représente la réalité , mais si vous y parvenez, alors quelque soit la plateforme, vous pourriez étudier et améliorer l'image de marque de vos clients.\n",
    "\n",
    "RENDU : Aujourd'hui en fin de séance, un rapport + un notebook et, le tout compressé dans un fichier ZIP à rendre sur PEPAL.\n"
   ],
   "id": "59e84a326c80ed51"
  },
  {
   "metadata": {},
   "cell_type": "markdown",
   "source": [
    "VOUS AVEZ BESOIN DE GOOGLE CLOUD PLATEFORME (GCP) pas de panique, c'est gratuit et pas besoin de votre carte bancaire pour générer une api key !!!! \n",
    "\n",
    "vous avez un quota de 12 projets gratuits !!!"
   ],
   "id": "9c856fea6a40788c"
  },
  {
   "metadata": {},
   "cell_type": "markdown",
   "source": "UNE LIBRAIRIE YOUTUBE POUR PYTHON QUI VOUS SERA UTILE: https://pypi.org/project/python-youtube/",
   "id": "d6269e9e790bba6"
  },
  {
   "metadata": {},
   "cell_type": "code",
   "outputs": [],
   "execution_count": null,
   "source": [
    "# TODO:::\n",
    "# installez la librairie\n",
    "!pip install python-youtube"
   ],
   "id": "6052eb256e0388dc"
  },
  {
   "metadata": {},
   "cell_type": "markdown",
   "source": "SA DOCUMENTATION : https://sns-sdks.lkhardy.cn/python-youtube/ ALLEZ DANS LE GETTING STARTED (https://sns-sdks.lkhardy.cn/python-youtube/getting_started/) ... GETTING-STARTED utilise la documentation officielle de l'API de YOUTUBE qui est la suivante (celle de google en générale , car youtube appartient à google / et linkedin à microsoft) : https://developers.google.com/youtube/v3/docs?hl=fr",
   "id": "8ae1e1f6ed6b71a8"
  },
  {
   "metadata": {},
   "cell_type": "markdown",
   "source": "Vous devez donc créer un projet et générer une api key ici : https://console.cloud.google.com/projectselector2/apis/dashboard?hl=fr&supportedpurview=project",
   "id": "f54c196bb57412a7"
  },
  {
   "metadata": {},
   "cell_type": "code",
   "outputs": [],
   "execution_count": null,
   "source": [
    "# TODO:::\n",
    "# remplacez \"your api key\" par la valeur d'api générée !\n",
    "from pyyoutube import Client\n",
    "\n",
    "cli = Client(api_key=\"your api key\")"
   ],
   "id": "62ab449365db29ba"
  },
  {
   "metadata": {},
   "cell_type": "markdown",
   "source": "Bon travail !",
   "id": "fa2fe353c0a2c18a"
  },
  {
   "metadata": {},
   "cell_type": "code",
   "outputs": [],
   "execution_count": null,
   "source": "",
   "id": "7afee0703d359e8d"
  }
 ],
 "metadata": {
  "kernelspec": {
   "display_name": "Python 3 (ipykernel)",
   "language": "python",
   "name": "python3"
  },
  "language_info": {
   "codemirror_mode": {
    "name": "ipython",
    "version": 3
   },
   "file_extension": ".py",
   "mimetype": "text/x-python",
   "name": "python",
   "nbconvert_exporter": "python",
   "pygments_lexer": "ipython3",
   "version": "3.10.5"
  }
 },
 "nbformat": 4,
 "nbformat_minor": 5
}
